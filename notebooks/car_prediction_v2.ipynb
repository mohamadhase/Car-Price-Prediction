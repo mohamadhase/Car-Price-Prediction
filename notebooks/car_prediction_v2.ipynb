{
 "cells": [
  {
   "cell_type": "markdown",
   "metadata": {},
   "source": [
    "# Car Prediction Assigment notebook\n"
   ]
  },
  {
   "cell_type": "code",
   "execution_count": 243,
   "metadata": {},
   "outputs": [],
   "source": [
    "\n",
    "\n",
    "import pandas as pd\n",
    "import numpy as np\n",
    "import matplotlib.pyplot as plt\n",
    "import re\n",
    "import convert_numbers\n",
    "from sklearn.impute import KNNImputer\n",
    "from math import sqrt\n",
    "from sklearn.preprocessing import LabelEncoder , OneHotEncoder\n",
    "#import pipeline from sklearn\n",
    "from sklearn.pipeline import Pipeline\n",
    "import sys\n",
    "import os\n",
    "sys.path.append(\"\\\\\".join(sys.path[0].split('\\\\')[:-1])+'\\src') # get ehe path of the src folder relative to the current path\n",
    "import transformers as ct\n",
    "import utils as ut\n",
    "from importlib import reload\n",
    "\n",
    "reload(ut)\n",
    "from utils import normalize_prev_owner,fill_by_mean_mode_of_year,arabic_to_english\n",
    "# refresh the ct module\n",
    "reload(ct)\n",
    "import seaborn as sns\n",
    "\n",
    "pd.set_option('display.max_columns', None)"
   ]
  },
  {
   "cell_type": "markdown",
   "metadata": {},
   "source": [
    "read the data from /data folder"
   ]
  },
  {
   "cell_type": "code",
   "execution_count": 244,
   "metadata": {},
   "outputs": [],
   "source": [
    "car_data = pd.read_csv('../data/data.csv')\n",
    "copy_car_data = car_data.copy()"
   ]
  },
  {
   "cell_type": "markdown",
   "metadata": {},
   "source": [
    "take a look at the data shape"
   ]
  },
  {
   "cell_type": "code",
   "execution_count": 245,
   "metadata": {},
   "outputs": [
    {
     "data": {
      "text/plain": [
       "(6864, 16)"
      ]
     },
     "execution_count": 245,
     "metadata": {},
     "output_type": "execute_result"
    }
   ],
   "source": [
    "car_data.shape"
   ]
  },
  {
   "cell_type": "markdown",
   "metadata": {},
   "source": [
    "see the first 2 rows of the data"
   ]
  },
  {
   "cell_type": "code",
   "execution_count": 246,
   "metadata": {},
   "outputs": [
    {
     "data": {
      "text/html": [
       "<div>\n",
       "<style scoped>\n",
       "    .dataframe tbody tr th:only-of-type {\n",
       "        vertical-align: middle;\n",
       "    }\n",
       "\n",
       "    .dataframe tbody tr th {\n",
       "        vertical-align: top;\n",
       "    }\n",
       "\n",
       "    .dataframe thead th {\n",
       "        text-align: right;\n",
       "    }\n",
       "</style>\n",
       "<table border=\"1\" class=\"dataframe\">\n",
       "  <thead>\n",
       "    <tr style=\"text-align: right;\">\n",
       "      <th></th>\n",
       "      <th>car_name</th>\n",
       "      <th>year</th>\n",
       "      <th>price</th>\n",
       "      <th>color</th>\n",
       "      <th>fuil_type</th>\n",
       "      <th>car_prev_state</th>\n",
       "      <th>license_country</th>\n",
       "      <th>transimission_type</th>\n",
       "      <th>glass_type</th>\n",
       "      <th>motor_power</th>\n",
       "      <th>mileage</th>\n",
       "      <th>passenger_capacity</th>\n",
       "      <th>prev_owners</th>\n",
       "      <th>additional_info</th>\n",
       "      <th>insurance_cost</th>\n",
       "      <th>sell_date</th>\n",
       "    </tr>\n",
       "  </thead>\n",
       "  <tbody>\n",
       "    <tr>\n",
       "      <th>0</th>\n",
       "      <td>كيا اوبتيما</td>\n",
       "      <td>2014</td>\n",
       "      <td>100000</td>\n",
       "      <td>أبيض عاجي</td>\n",
       "      <td>بنزين</td>\n",
       "      <td>خصوصي</td>\n",
       "      <td>فلسطينية</td>\n",
       "      <td>اوتوماتيك</td>\n",
       "      <td>الكتروني</td>\n",
       "      <td>2000</td>\n",
       "      <td>75000.0</td>\n",
       "      <td>4+1</td>\n",
       "      <td>يد اولى</td>\n",
       "      <td>مُكيّف,إغلاق مركزي,جهاز إنذار,مسجل CD,فتحة سقف...</td>\n",
       "      <td>3090</td>\n",
       "      <td>2017-08-16</td>\n",
       "    </tr>\n",
       "    <tr>\n",
       "      <th>1</th>\n",
       "      <td>كيا سورينتو</td>\n",
       "      <td>2007</td>\n",
       "      <td>60000</td>\n",
       "      <td>سكني</td>\n",
       "      <td>ديزل</td>\n",
       "      <td>خصوصي</td>\n",
       "      <td>فلسطينية</td>\n",
       "      <td>نصف اوتوماتيك</td>\n",
       "      <td>الكتروني</td>\n",
       "      <td>2500</td>\n",
       "      <td>130000.0</td>\n",
       "      <td>7+1</td>\n",
       "      <td>2</td>\n",
       "      <td>مُكيّف,إغلاق مركزي,جهاز إنذار,مسجل CD,فتحة سقف...</td>\n",
       "      <td>2740</td>\n",
       "      <td>2017-08-16</td>\n",
       "    </tr>\n",
       "  </tbody>\n",
       "</table>\n",
       "</div>"
      ],
      "text/plain": [
       "      car_name  year   price       color fuil_type car_prev_state  \\\n",
       "0  كيا اوبتيما  2014  100000  أبيض عاجي     بنزين          خصوصي    \n",
       "1  كيا سورينتو  2007   60000       سكني      ديزل          خصوصي    \n",
       "\n",
       "  license_country transimission_type glass_type  motor_power   mileage  \\\n",
       "0       فلسطينية          اوتوماتيك   الكتروني          2000   75000.0   \n",
       "1       فلسطينية      نصف اوتوماتيك   الكتروني          2500  130000.0   \n",
       "\n",
       "  passenger_capacity prev_owners  \\\n",
       "0               4+1     يد اولى    \n",
       "1               7+1           2    \n",
       "\n",
       "                                     additional_info  insurance_cost  \\\n",
       "0  مُكيّف,إغلاق مركزي,جهاز إنذار,مسجل CD,فتحة سقف...            3090   \n",
       "1  مُكيّف,إغلاق مركزي,جهاز إنذار,مسجل CD,فتحة سقف...            2740   \n",
       "\n",
       "    sell_date  \n",
       "0  2017-08-16  \n",
       "1  2017-08-16  "
      ]
     },
     "execution_count": 246,
     "metadata": {},
     "output_type": "execute_result"
    }
   ],
   "source": [
    "car_data.head(2)"
   ]
  },
  {
   "cell_type": "markdown",
   "metadata": {},
   "source": [
    "take a look at the data types of the columns"
   ]
  },
  {
   "cell_type": "code",
   "execution_count": 247,
   "metadata": {},
   "outputs": [
    {
     "data": {
      "text/plain": [
       "car_name               object\n",
       "year                    int64\n",
       "price                   int64\n",
       "color                  object\n",
       "fuil_type              object\n",
       "car_prev_state         object\n",
       "license_country        object\n",
       "transimission_type     object\n",
       "glass_type             object\n",
       "motor_power             int64\n",
       "mileage               float64\n",
       "passenger_capacity     object\n",
       "prev_owners            object\n",
       "additional_info        object\n",
       "insurance_cost          int64\n",
       "sell_date              object\n",
       "dtype: object"
      ]
     },
     "execution_count": 247,
     "metadata": {},
     "output_type": "execute_result"
    }
   ],
   "source": [
    "car_data.dtypes"
   ]
  },
  {
   "cell_type": "markdown",
   "metadata": {},
   "source": [
    "draw a histogram for each column to see the distribution of the data and the outliers"
   ]
  },
  {
   "cell_type": "code",
   "execution_count": 248,
   "metadata": {},
   "outputs": [
    {
     "data": {
      "text/plain": [
       "array([[<AxesSubplot: title={'center': 'year'}>,\n",
       "        <AxesSubplot: title={'center': 'price'}>],\n",
       "       [<AxesSubplot: title={'center': 'motor_power'}>,\n",
       "        <AxesSubplot: title={'center': 'mileage'}>],\n",
       "       [<AxesSubplot: title={'center': 'insurance_cost'}>,\n",
       "        <AxesSubplot: >]], dtype=object)"
      ]
     },
     "execution_count": 248,
     "metadata": {},
     "output_type": "execute_result"
    },
    {
     "data": {
      "image/png": "[encoded data removed]",
      "text/plain": [
       "<Figure size 2000x1500 with 6 Axes>"
      ]
     },
     "metadata": {},
     "output_type": "display_data"
    }
   ],
   "source": [
    "car_data.hist(bins=50, figsize=(20,15))"
   ]
  },
  {
   "cell_type": "markdown",
   "metadata": {},
   "source": [
    "draw a horizontal bar plot for the categorical columns to see the distribution of the data"
   ]
  },
  {
   "cell_type": "code",
   "execution_count": 249,
   "metadata": {},
   "outputs": [
    {
     "data": {
      "image/png": "[encoded data removed]",
      "text/plain": [
       "<Figure size 1000x500 with 1 Axes>"
      ]
     },
     "metadata": {},
     "output_type": "display_data"
    },
    {
     "data": {
      "image/png": "[encoded data removed]",
      "text/plain": [
       "<Figure size 1000x500 with 1 Axes>"
      ]
     },
     "metadata": {},
     "output_type": "display_data"
    },
    {
     "data": {
      "image/png": "[encoded data removed]",
      "text/plain": [
       "<Figure size 1000x500 with 1 Axes>"
      ]
     },
     "metadata": {},
     "output_type": "display_data"
    },
    {
     "data": {
      "image/png": "[encoded data removed]",
      "text/plain": [
       "<Figure size 1000x500 with 1 Axes>"
      ]
     },
     "metadata": {},
     "output_type": "display_data"
    },
    {
     "data": {
      "image/png": "[encoded data removed]",
      "text/plain": [
       "<Figure size 1000x500 with 1 Axes>"
      ]
     },
     "metadata": {},
     "output_type": "display_data"
    },
    {
     "data": {
      "image/png": "[encoded data removed]",
      "text/plain": [
       "<Figure size 1000x500 with 1 Axes>"
      ]
     },
     "metadata": {},
     "output_type": "display_data"
    }
   ],
   "source": [
    "# draw a horizontal bar plot for the categorical columns to see the distribution of the data\n",
    "def draw_bar_plot(df, col):\n",
    "    df[col].value_counts().plot(kind='barh', figsize=(10, 5))\n",
    "    plt.title(col)\n",
    "    plt.show()\n",
    "exiclude_columns = ['car_name','prev_owners','additional_info','sell_date','passenger_capacity']\n",
    "for col in car_data.columns :\n",
    "    if car_data[col].dtype == 'object' and col not in exiclude_columns:\n",
    "        draw_bar_plot(car_data, col)"
   ]
  },
  {
   "cell_type": "markdown",
   "metadata": {},
   "source": [
    "convert the sell_date column to datetime format"
   ]
  },
  {
   "cell_type": "code",
   "execution_count": 250,
   "metadata": {},
   "outputs": [],
   "source": [
    "car_data['sell_date'] = pd.to_datetime(car_data['sell_date'])"
   ]
  },
  {
   "cell_type": "code",
   "execution_count": 251,
   "metadata": {},
   "outputs": [
    {
     "data": {
      "image/png": "[encoded data removed]",
      "text/plain": [
       "<Figure size 1000x500 with 1 Axes>"
      ]
     },
     "metadata": {},
     "output_type": "display_data"
    }
   ],
   "source": [
    "car_data['sell_year'] = car_data['sell_date'].dt.year\n",
    "car_data['sell_year'].value_counts().plot(kind='barh', figsize=(10, 5))\n",
    "plt.title('sell_year')\n",
    "plt.show()"
   ]
  },
  {
   "cell_type": "code",
   "execution_count": 252,
   "metadata": {},
   "outputs": [],
   "source": [
    "car_data.drop(columns=['sell_year'], inplace=True)"
   ]
  },
  {
   "cell_type": "markdown",
   "metadata": {},
   "source": [
    "<h1 align=\"center\" style=\"color:yellow\">Missing Values Handling</h1> \n"
   ]
  },
  {
   "cell_type": "markdown",
   "metadata": {},
   "source": [
    "draw a horizontal bar plot for the number of null values in each column"
   ]
  },
  {
   "cell_type": "code",
   "execution_count": 253,
   "metadata": {},
   "outputs": [
    {
     "data": {
      "text/plain": [
       "<AxesSubplot: >"
      ]
     },
     "execution_count": 253,
     "metadata": {},
     "output_type": "execute_result"
    },
    {
     "data": {
      "image/png": "[encoded data removed]",
      "text/plain": [
       "<Figure size 1000x1000 with 1 Axes>"
      ]
     },
     "metadata": {},
     "output_type": "display_data"
    }
   ],
   "source": [
    "car_data.isnull().sum().plot(kind='barh', figsize=(10, 10))"
   ]
  },
  {
   "cell_type": "markdown",
   "metadata": {},
   "source": [
    "fill the null values of the additional_info column with empty string ''\n",
    "becouse if its null it means that there is no additional info"
   ]
  },
  {
   "cell_type": "code",
   "execution_count": 254,
   "metadata": {},
   "outputs": [],
   "source": [
    "car_data['additional_info'].fillna('', inplace=True)"
   ]
  },
  {
   "cell_type": "markdown",
   "metadata": {},
   "source": [
    "fill the null values for the sell_date with the ffill method (forward fill) becouse the data is nearly sorted by date and the null values are in the end of the data"
   ]
  },
  {
   "cell_type": "code",
   "execution_count": 255,
   "metadata": {},
   "outputs": [],
   "source": [
    "car_data['sell_date'].fillna(method='ffill', inplace=True)"
   ]
  },
  {
   "cell_type": "markdown",
   "metadata": {},
   "source": [
    "apply the function to the prev_owner column and convert it to int type "
   ]
  },
  {
   "cell_type": "markdown",
   "metadata": {},
   "source": [
    "the prev owner column is plain text so we need to convert it to int by applying the function to the column then we can fix the null values using the mean of the values for the same year model"
   ]
  },
  {
   "cell_type": "code",
   "execution_count": 256,
   "metadata": {},
   "outputs": [],
   "source": [
    "car_data['prev_owners'] = car_data['prev_owners'].apply(normalize_prev_owner) # convert the prev_owners column to numeric if the function couldn't convert the value it will return NaN"
   ]
  },
  {
   "cell_type": "code",
   "execution_count": 257,
   "metadata": {},
   "outputs": [
    {
     "data": {
      "text/plain": [
       "array(['1', '2', nan, '0', '4', '3', '8', '6', '5', '9', '7', '159000',\n",
       "       '12', '10', '11', '56', '13', '16', '17', '78888877766', '15',\n",
       "       '170000', '18', '123423', '14', '12345', '1000', '778244', '19',\n",
       "       '11111', '44444'], dtype=object)"
      ]
     },
     "execution_count": 257,
     "metadata": {},
     "output_type": "execute_result"
    }
   ],
   "source": [
    "car_data['prev_owners'].unique()"
   ]
  },
  {
   "cell_type": "markdown",
   "metadata": {},
   "source": [
    "fix the null values for the prev_owners column using the mean of the values for the same year model"
   ]
  },
  {
   "cell_type": "code",
   "execution_count": 258,
   "metadata": {},
   "outputs": [],
   "source": [
    "car_data = car_data.apply(fill_by_mean_mode_of_year, args=(car_data,'prev_owners'),axis=1)"
   ]
  },
  {
   "cell_type": "code",
   "execution_count": 259,
   "metadata": {},
   "outputs": [
    {
     "data": {
      "text/html": [
       "<div>\n",
       "<style scoped>\n",
       "    .dataframe tbody tr th:only-of-type {\n",
       "        vertical-align: middle;\n",
       "    }\n",
       "\n",
       "    .dataframe tbody tr th {\n",
       "        vertical-align: top;\n",
       "    }\n",
       "\n",
       "    .dataframe thead th {\n",
       "        text-align: right;\n",
       "    }\n",
       "</style>\n",
       "<table border=\"1\" class=\"dataframe\">\n",
       "  <thead>\n",
       "    <tr style=\"text-align: right;\">\n",
       "      <th></th>\n",
       "      <th>car_name</th>\n",
       "      <th>year</th>\n",
       "      <th>price</th>\n",
       "      <th>color</th>\n",
       "      <th>fuil_type</th>\n",
       "      <th>car_prev_state</th>\n",
       "      <th>license_country</th>\n",
       "      <th>transimission_type</th>\n",
       "      <th>glass_type</th>\n",
       "      <th>motor_power</th>\n",
       "      <th>mileage</th>\n",
       "      <th>passenger_capacity</th>\n",
       "      <th>prev_owners</th>\n",
       "      <th>additional_info</th>\n",
       "      <th>insurance_cost</th>\n",
       "      <th>sell_date</th>\n",
       "    </tr>\n",
       "  </thead>\n",
       "  <tbody>\n",
       "    <tr>\n",
       "      <th>173</th>\n",
       "      <td>مرسيدس 200</td>\n",
       "      <td>1978</td>\n",
       "      <td>15000</td>\n",
       "      <td>ذهبي</td>\n",
       "      <td>بنزين</td>\n",
       "      <td>عمومي</td>\n",
       "      <td>فلسطينية</td>\n",
       "      <td>اوتوماتيك</td>\n",
       "      <td>يدوي</td>\n",
       "      <td>2000</td>\n",
       "      <td>NaN</td>\n",
       "      <td>4+1</td>\n",
       "      <td>NaN</td>\n",
       "      <td>مسجل CD,جنطات مغنيسيوم</td>\n",
       "      <td>1170</td>\n",
       "      <td>2017-09-24</td>\n",
       "    </tr>\n",
       "    <tr>\n",
       "      <th>3760</th>\n",
       "      <td>بي ام دبليو 320</td>\n",
       "      <td>1978</td>\n",
       "      <td>18000</td>\n",
       "      <td>ذهبي</td>\n",
       "      <td>بنزين</td>\n",
       "      <td>خصوصي</td>\n",
       "      <td>فلسطينية</td>\n",
       "      <td>عادي</td>\n",
       "      <td>يدوي</td>\n",
       "      <td>2000</td>\n",
       "      <td>0.0</td>\n",
       "      <td>4+1</td>\n",
       "      <td>NaN</td>\n",
       "      <td>إغلاق مركزي,فتحة سقف,جنطات مغنيسيوم,فرش جلد</td>\n",
       "      <td>1170</td>\n",
       "      <td>2020-08-02</td>\n",
       "    </tr>\n",
       "    <tr>\n",
       "      <th>4586</th>\n",
       "      <td>فولكسفاجن فينتو</td>\n",
       "      <td>1968</td>\n",
       "      <td>40000</td>\n",
       "      <td>أصفر</td>\n",
       "      <td>بنزين</td>\n",
       "      <td>خصوصي</td>\n",
       "      <td>فلسطينية</td>\n",
       "      <td>عادي</td>\n",
       "      <td>يدوي</td>\n",
       "      <td>1300</td>\n",
       "      <td>286000.0</td>\n",
       "      <td>NaN</td>\n",
       "      <td>NaN</td>\n",
       "      <td>فرش جلد</td>\n",
       "      <td>1017</td>\n",
       "      <td>2021-04-15</td>\n",
       "    </tr>\n",
       "  </tbody>\n",
       "</table>\n",
       "</div>"
      ],
      "text/plain": [
       "             car_name  year  price  color fuil_type car_prev_state  \\\n",
       "173        مرسيدس 200  1978  15000  ذهبي     بنزين          عمومي    \n",
       "3760  بي ام دبليو 320  1978  18000  ذهبي     بنزين          خصوصي    \n",
       "4586  فولكسفاجن فينتو  1968  40000  أصفر     بنزين          خصوصي    \n",
       "\n",
       "     license_country transimission_type glass_type  motor_power   mileage  \\\n",
       "173        فلسطينية          اوتوماتيك       يدوي          2000       NaN   \n",
       "3760       فلسطينية               عادي       يدوي          2000       0.0   \n",
       "4586       فلسطينية               عادي       يدوي          1300  286000.0   \n",
       "\n",
       "     passenger_capacity prev_owners  \\\n",
       "173                4+1          NaN   \n",
       "3760               4+1          NaN   \n",
       "4586                NaN         NaN   \n",
       "\n",
       "                                  additional_info  insurance_cost  sell_date  \n",
       "173                        مسجل CD,جنطات مغنيسيوم            1170 2017-09-24  \n",
       "3760  إغلاق مركزي,فتحة سقف,جنطات مغنيسيوم,فرش جلد            1170 2020-08-02  \n",
       "4586                                      فرش جلد            1017 2021-04-15  "
      ]
     },
     "execution_count": 259,
     "metadata": {},
     "output_type": "execute_result"
    }
   ],
   "source": [
    "car_data[car_data['prev_owners'].isna()]  # we have 3 rows with NaN values in the prev_owners column after filling the missing values by the mean of the year \n",
    "# so we will drop these rows\n"
   ]
  },
  {
   "cell_type": "code",
   "execution_count": 260,
   "metadata": {},
   "outputs": [
    {
     "data": {
      "text/plain": [
       "array([          1,           2,           0,           4,           3,\n",
       "                 8,           6,           5,           9,           7,\n",
       "            159000,          12,          10,          11,          18,\n",
       "                56,          13,          16,          17, 78888877766,\n",
       "                15,      170000,      123423,          14,       12345,\n",
       "              1000,      778244,          19,       11111,       44444],\n",
       "      dtype=int64)"
      ]
     },
     "execution_count": 260,
     "metadata": {},
     "output_type": "execute_result"
    }
   ],
   "source": [
    "car_data.dropna(subset=['prev_owners'], inplace=True)\n",
    "car_data['prev_owners'] = car_data['prev_owners'].astype('int64')\n",
    "car_data['prev_owners'].unique()"
   ]
  },
  {
   "cell_type": "code",
   "execution_count": 261,
   "metadata": {},
   "outputs": [
    {
     "data": {
      "text/plain": [
       "array(['4+1 ', '7+1 ', nan, '4+1  ', '5+1 ', '٤+١ ', '8 ', '6+1 ', '4+١ ',\n",
       "       '٧ ', '7,+ 1 ', '7:1 ', '1+7 ', '١+٤ ', '2+1 ', '6+١ ', '+1 ',\n",
       "       '6±١ ', '22 ', '1+1 ', '٥+١ ', '٧+1 ', '5+2 ', 'مثال: 4 + 1 ',\n",
       "       '7.1 ', '7 =1 ', '٧+١ ', '6x1     ', '1+٤ ', '1+2 ', '4+1   ',\n",
       "       '2/1 ', '8+1 ', '4+2 ', '٦+١ ', '2 ', '1٠4 ', '4\\\\١ ', '000 ',\n",
       "       '3+1 ', '1 ', 'اكثر من 10 ', '9+1 '], dtype=object)"
      ]
     },
     "execution_count": 261,
     "metadata": {},
     "output_type": "execute_result"
    }
   ],
   "source": [
    "car_data['passenger_capacity'].unique()"
   ]
  },
  {
   "cell_type": "markdown",
   "metadata": {},
   "source": [
    "the passenger_capacity columns is meant to be int but it written as string equation so we need to convert it to int "
   ]
  },
  {
   "cell_type": "code",
   "execution_count": 262,
   "metadata": {},
   "outputs": [],
   "source": [
    "car_data['passenger_capacity'] = car_data['passenger_capacity'].apply(arabic_to_english)"
   ]
  },
  {
   "cell_type": "code",
   "execution_count": 263,
   "metadata": {},
   "outputs": [
    {
     "data": {
      "text/plain": [
       "array([ 5.,  8., nan,  6.,  7.,  3.,  1.,  4.,  2.,  9.,  0., 10.])"
      ]
     },
     "execution_count": 263,
     "metadata": {},
     "output_type": "execute_result"
    }
   ],
   "source": [
    "car_data['passenger_capacity'].unique()"
   ]
  },
  {
   "cell_type": "markdown",
   "metadata": {},
   "source": [
    "to handle the missing values of the passenger_capacity column we will use the KNNImputer from sklearn.impute </br >\n",
    "the KNNImputer will impute the missing values by using the k nearest neighbors found in the dataset  </br >\n",
    "the reason we use the KNNImputer is becouse the KNN is based on the distance of the k nearest and this value is most likely to be the same as the similar cars </br > "
   ]
  },
  {
   "cell_type": "code",
   "execution_count": 264,
   "metadata": {},
   "outputs": [],
   "source": [
    "imputer = KNNImputer(n_neighbors=5,)\n",
    "car_data['passenger_capacity'] = imputer.fit_transform(car_data[['passenger_capacity']])\n",
    "car_data['passenger_capacity'] = car_data['passenger_capacity'].astype(int)\n"
   ]
  },
  {
   "cell_type": "code",
   "execution_count": 265,
   "metadata": {},
   "outputs": [
    {
     "data": {
      "text/html": [
       "<div>\n",
       "<style scoped>\n",
       "    .dataframe tbody tr th:only-of-type {\n",
       "        vertical-align: middle;\n",
       "    }\n",
       "\n",
       "    .dataframe tbody tr th {\n",
       "        vertical-align: top;\n",
       "    }\n",
       "\n",
       "    .dataframe thead th {\n",
       "        text-align: right;\n",
       "    }\n",
       "</style>\n",
       "<table border=\"1\" class=\"dataframe\">\n",
       "  <thead>\n",
       "    <tr style=\"text-align: right;\">\n",
       "      <th></th>\n",
       "      <th>car_name</th>\n",
       "      <th>year</th>\n",
       "      <th>price</th>\n",
       "      <th>color</th>\n",
       "      <th>fuil_type</th>\n",
       "      <th>car_prev_state</th>\n",
       "      <th>license_country</th>\n",
       "      <th>transimission_type</th>\n",
       "      <th>glass_type</th>\n",
       "      <th>motor_power</th>\n",
       "      <th>mileage</th>\n",
       "      <th>passenger_capacity</th>\n",
       "      <th>prev_owners</th>\n",
       "      <th>additional_info</th>\n",
       "      <th>insurance_cost</th>\n",
       "      <th>sell_date</th>\n",
       "    </tr>\n",
       "  </thead>\n",
       "  <tbody>\n",
       "  </tbody>\n",
       "</table>\n",
       "</div>"
      ],
      "text/plain": [
       "Empty DataFrame\n",
       "Columns: [car_name, year, price, color, fuil_type, car_prev_state, license_country, transimission_type, glass_type, motor_power, mileage, passenger_capacity, prev_owners, additional_info, insurance_cost, sell_date]\n",
       "Index: []"
      ]
     },
     "execution_count": 265,
     "metadata": {},
     "output_type": "execute_result"
    }
   ],
   "source": [
    "car_data[car_data['passenger_capacity'].isna()]"
   ]
  },
  {
   "cell_type": "markdown",
   "metadata": {},
   "source": [
    "the mileage is numaric but have a alot of missing values so we will use the mean of the values for the same year model to fill the missing values "
   ]
  },
  {
   "cell_type": "code",
   "execution_count": 266,
   "metadata": {},
   "outputs": [],
   "source": [
    "car_data['mileage'] = car_data['mileage'].astype(object) # convert the mileage column to object to apply the convert_numbers function\n",
    "car_data = car_data.apply(fill_by_mean_mode_of_year,args=(car_data,'mileage'), axis=1)"
   ]
  },
  {
   "cell_type": "code",
   "execution_count": 267,
   "metadata": {},
   "outputs": [
    {
     "data": {
      "text/html": [
       "<div>\n",
       "<style scoped>\n",
       "    .dataframe tbody tr th:only-of-type {\n",
       "        vertical-align: middle;\n",
       "    }\n",
       "\n",
       "    .dataframe tbody tr th {\n",
       "        vertical-align: top;\n",
       "    }\n",
       "\n",
       "    .dataframe thead th {\n",
       "        text-align: right;\n",
       "    }\n",
       "</style>\n",
       "<table border=\"1\" class=\"dataframe\">\n",
       "  <thead>\n",
       "    <tr style=\"text-align: right;\">\n",
       "      <th></th>\n",
       "      <th>car_name</th>\n",
       "      <th>year</th>\n",
       "      <th>price</th>\n",
       "      <th>color</th>\n",
       "      <th>fuil_type</th>\n",
       "      <th>car_prev_state</th>\n",
       "      <th>license_country</th>\n",
       "      <th>transimission_type</th>\n",
       "      <th>glass_type</th>\n",
       "      <th>motor_power</th>\n",
       "      <th>mileage</th>\n",
       "      <th>passenger_capacity</th>\n",
       "      <th>prev_owners</th>\n",
       "      <th>additional_info</th>\n",
       "      <th>insurance_cost</th>\n",
       "      <th>sell_date</th>\n",
       "    </tr>\n",
       "  </thead>\n",
       "  <tbody>\n",
       "    <tr>\n",
       "      <th>345</th>\n",
       "      <td>فيات 127</td>\n",
       "      <td>1975</td>\n",
       "      <td>13000</td>\n",
       "      <td>أخضر</td>\n",
       "      <td>بنزين</td>\n",
       "      <td>خصوصي</td>\n",
       "      <td>فلسطينية</td>\n",
       "      <td>عادي</td>\n",
       "      <td>الكتروني</td>\n",
       "      <td>900</td>\n",
       "      <td>NaN</td>\n",
       "      <td>5</td>\n",
       "      <td>5</td>\n",
       "      <td>جهاز إنذار,مسجل CD,جنطات مغنيسيوم,فرش جلد</td>\n",
       "      <td>967</td>\n",
       "      <td>2017-10-30</td>\n",
       "    </tr>\n",
       "    <tr>\n",
       "      <th>4247</th>\n",
       "      <td>فولكسفاجن جولف</td>\n",
       "      <td>1976</td>\n",
       "      <td>7000</td>\n",
       "      <td>أحمر</td>\n",
       "      <td>بنزين</td>\n",
       "      <td>خصوصي</td>\n",
       "      <td>فلسطينية</td>\n",
       "      <td>عادي</td>\n",
       "      <td>يدوي</td>\n",
       "      <td>1000</td>\n",
       "      <td>NaN</td>\n",
       "      <td>5</td>\n",
       "      <td>7</td>\n",
       "      <td>مسجل CD,جنطات مغنيسيوم,فرش جلد</td>\n",
       "      <td>967</td>\n",
       "      <td>2020-12-17</td>\n",
       "    </tr>\n",
       "  </tbody>\n",
       "</table>\n",
       "</div>"
      ],
      "text/plain": [
       "            car_name  year  price  color fuil_type car_prev_state  \\\n",
       "345         فيات 127  1975  13000  أخضر     بنزين          خصوصي    \n",
       "4247  فولكسفاجن جولف  1976   7000  أحمر     بنزين          خصوصي    \n",
       "\n",
       "     license_country transimission_type glass_type  motor_power  mileage  \\\n",
       "345        فلسطينية               عادي   الكتروني           900      NaN   \n",
       "4247       فلسطينية               عادي       يدوي          1000      NaN   \n",
       "\n",
       "      passenger_capacity  prev_owners  \\\n",
       "345                    5            5   \n",
       "4247                   5            7   \n",
       "\n",
       "                                additional_info  insurance_cost  sell_date  \n",
       "345   جهاز إنذار,مسجل CD,جنطات مغنيسيوم,فرش جلد             967 2017-10-30  \n",
       "4247             مسجل CD,جنطات مغنيسيوم,فرش جلد             967 2020-12-17  "
      ]
     },
     "execution_count": 267,
     "metadata": {},
     "output_type": "execute_result"
    }
   ],
   "source": [
    "car_data[car_data['mileage'].isna()]"
   ]
  },
  {
   "cell_type": "code",
   "execution_count": 268,
   "metadata": {},
   "outputs": [],
   "source": [
    "car_data.dropna(subset=['mileage'], inplace=True)"
   ]
  },
  {
   "cell_type": "code",
   "execution_count": 269,
   "metadata": {},
   "outputs": [
    {
     "data": {
      "text/plain": [
       "car_name              0\n",
       "year                  0\n",
       "price                 0\n",
       "color                 0\n",
       "fuil_type             0\n",
       "car_prev_state        0\n",
       "license_country       0\n",
       "transimission_type    0\n",
       "glass_type            0\n",
       "motor_power           0\n",
       "mileage               0\n",
       "passenger_capacity    0\n",
       "prev_owners           0\n",
       "additional_info       0\n",
       "insurance_cost        0\n",
       "sell_date             0\n",
       "dtype: int64"
      ]
     },
     "execution_count": 269,
     "metadata": {},
     "output_type": "execute_result"
    }
   ],
   "source": [
    "car_data.isnull().sum()"
   ]
  },
  {
   "cell_type": "markdown",
   "metadata": {},
   "source": [
    "# Noisy  Data and Outliers "
   ]
  },
  {
   "cell_type": "markdown",
   "metadata": {},
   "source": [
    "take a look at the descriptive statistics of the numerical columns "
   ]
  },
  {
   "cell_type": "code",
   "execution_count": 270,
   "metadata": {},
   "outputs": [
    {
     "data": {
      "text/plain": [
       "car_name                      object\n",
       "year                           int64\n",
       "price                          int64\n",
       "color                         object\n",
       "fuil_type                     object\n",
       "car_prev_state                object\n",
       "license_country               object\n",
       "transimission_type            object\n",
       "glass_type                    object\n",
       "motor_power                    int64\n",
       "mileage                      float64\n",
       "passenger_capacity             int64\n",
       "prev_owners                    int64\n",
       "additional_info               object\n",
       "insurance_cost                 int64\n",
       "sell_date             datetime64[ns]\n",
       "dtype: object"
      ]
     },
     "execution_count": 270,
     "metadata": {},
     "output_type": "execute_result"
    }
   ],
   "source": [
    "car_data.dtypes"
   ]
  },
  {
   "cell_type": "code",
   "execution_count": 271,
   "metadata": {},
   "outputs": [
    {
     "data": {
      "text/html": [
       "<div>\n",
       "<style scoped>\n",
       "    .dataframe tbody tr th:only-of-type {\n",
       "        vertical-align: middle;\n",
       "    }\n",
       "\n",
       "    .dataframe tbody tr th {\n",
       "        vertical-align: top;\n",
       "    }\n",
       "\n",
       "    .dataframe thead th {\n",
       "        text-align: right;\n",
       "    }\n",
       "</style>\n",
       "<table border=\"1\" class=\"dataframe\">\n",
       "  <thead>\n",
       "    <tr style=\"text-align: right;\">\n",
       "      <th></th>\n",
       "      <th>year</th>\n",
       "      <th>price</th>\n",
       "      <th>motor_power</th>\n",
       "      <th>mileage</th>\n",
       "      <th>passenger_capacity</th>\n",
       "      <th>prev_owners</th>\n",
       "      <th>insurance_cost</th>\n",
       "    </tr>\n",
       "  </thead>\n",
       "  <tbody>\n",
       "    <tr>\n",
       "      <th>count</th>\n",
       "      <td>6859.000000</td>\n",
       "      <td>6859.000000</td>\n",
       "      <td>6859.000000</td>\n",
       "      <td>6.859000e+03</td>\n",
       "      <td>6859.000000</td>\n",
       "      <td>6.859000e+03</td>\n",
       "      <td>6859.000000</td>\n",
       "    </tr>\n",
       "    <tr>\n",
       "      <th>mean</th>\n",
       "      <td>2008.616271</td>\n",
       "      <td>66756.614229</td>\n",
       "      <td>1740.080041</td>\n",
       "      <td>8.757646e+17</td>\n",
       "      <td>5.211401</td>\n",
       "      <td>1.150171e+07</td>\n",
       "      <td>2422.720805</td>\n",
       "    </tr>\n",
       "    <tr>\n",
       "      <th>std</th>\n",
       "      <td>8.659547</td>\n",
       "      <td>56848.387273</td>\n",
       "      <td>588.857086</td>\n",
       "      <td>7.253002e+19</td>\n",
       "      <td>0.899878</td>\n",
       "      <td>9.525447e+08</td>\n",
       "      <td>1083.776163</td>\n",
       "    </tr>\n",
       "    <tr>\n",
       "      <th>min</th>\n",
       "      <td>1967.000000</td>\n",
       "      <td>1111.000000</td>\n",
       "      <td>106.000000</td>\n",
       "      <td>0.000000e+00</td>\n",
       "      <td>0.000000</td>\n",
       "      <td>0.000000e+00</td>\n",
       "      <td>967.000000</td>\n",
       "    </tr>\n",
       "    <tr>\n",
       "      <th>25%</th>\n",
       "      <td>2005.000000</td>\n",
       "      <td>36000.000000</td>\n",
       "      <td>1400.000000</td>\n",
       "      <td>0.000000e+00</td>\n",
       "      <td>5.000000</td>\n",
       "      <td>1.000000e+00</td>\n",
       "      <td>2035.000000</td>\n",
       "    </tr>\n",
       "    <tr>\n",
       "      <th>50%</th>\n",
       "      <td>2011.000000</td>\n",
       "      <td>55000.000000</td>\n",
       "      <td>1600.000000</td>\n",
       "      <td>3.900000e+04</td>\n",
       "      <td>5.000000</td>\n",
       "      <td>2.000000e+00</td>\n",
       "      <td>2340.000000</td>\n",
       "    </tr>\n",
       "    <tr>\n",
       "      <th>75%</th>\n",
       "      <td>2015.000000</td>\n",
       "      <td>82000.000000</td>\n",
       "      <td>2000.000000</td>\n",
       "      <td>1.000000e+05</td>\n",
       "      <td>5.000000</td>\n",
       "      <td>3.000000e+00</td>\n",
       "      <td>2756.500000</td>\n",
       "    </tr>\n",
       "    <tr>\n",
       "      <th>max</th>\n",
       "      <td>2022.000000</td>\n",
       "      <td>999999.000000</td>\n",
       "      <td>9000.000000</td>\n",
       "      <td>6.006870e+21</td>\n",
       "      <td>10.000000</td>\n",
       "      <td>7.888888e+10</td>\n",
       "      <td>18535.000000</td>\n",
       "    </tr>\n",
       "  </tbody>\n",
       "</table>\n",
       "</div>"
      ],
      "text/plain": [
       "              year          price  motor_power       mileage  \\\n",
       "count  6859.000000    6859.000000  6859.000000  6.859000e+03   \n",
       "mean   2008.616271   66756.614229  1740.080041  8.757646e+17   \n",
       "std       8.659547   56848.387273   588.857086  7.253002e+19   \n",
       "min    1967.000000    1111.000000   106.000000  0.000000e+00   \n",
       "25%    2005.000000   36000.000000  1400.000000  0.000000e+00   \n",
       "50%    2011.000000   55000.000000  1600.000000  3.900000e+04   \n",
       "75%    2015.000000   82000.000000  2000.000000  1.000000e+05   \n",
       "max    2022.000000  999999.000000  9000.000000  6.006870e+21   \n",
       "\n",
       "       passenger_capacity   prev_owners  insurance_cost  \n",
       "count         6859.000000  6.859000e+03     6859.000000  \n",
       "mean             5.211401  1.150171e+07     2422.720805  \n",
       "std              0.899878  9.525447e+08     1083.776163  \n",
       "min              0.000000  0.000000e+00      967.000000  \n",
       "25%              5.000000  1.000000e+00     2035.000000  \n",
       "50%              5.000000  2.000000e+00     2340.000000  \n",
       "75%              5.000000  3.000000e+00     2756.500000  \n",
       "max             10.000000  7.888888e+10    18535.000000  "
      ]
     },
     "execution_count": 271,
     "metadata": {},
     "output_type": "execute_result"
    }
   ],
   "source": [
    "car_data.describe()"
   ]
  },
  {
   "cell_type": "markdown",
   "metadata": {},
   "source": [
    "compute the interquartile range (IQR) for each numerical column\n",
    "the IQR is the difference between the 75th and 25th percentile\n",
    "helps us to detect outliers"
   ]
  },
  {
   "cell_type": "code",
   "execution_count": 272,
   "metadata": {},
   "outputs": [
    {
     "name": "stderr",
     "output_type": "stream",
     "text": [
      "C:\\Users\\nasser\\AppData\\Local\\Temp\\ipykernel_14660\\3964405416.py:1: FutureWarning: The default value of numeric_only in DataFrame.quantile is deprecated. In a future version, it will default to False. Select only valid columns or specify the value of numeric_only to silence this warning.\n",
      "  Q1 = car_data.quantile(0.25)\n",
      "C:\\Users\\nasser\\AppData\\Local\\Temp\\ipykernel_14660\\3964405416.py:2: FutureWarning: The default value of numeric_only in DataFrame.quantile is deprecated. In a future version, it will default to False. Select only valid columns or specify the value of numeric_only to silence this warning.\n",
      "  Q3 = car_data.quantile(0.75)\n"
     ]
    },
    {
     "data": {
      "text/plain": [
       "year                      10.0\n",
       "price                  46000.0\n",
       "motor_power              600.0\n",
       "mileage               100000.0\n",
       "passenger_capacity         0.0\n",
       "prev_owners                2.0\n",
       "insurance_cost           721.5\n",
       "dtype: float64"
      ]
     },
     "execution_count": 272,
     "metadata": {},
     "output_type": "execute_result"
    }
   ],
   "source": [
    "Q1 = car_data.quantile(0.25)\n",
    "Q3 = car_data.quantile(0.75)\n",
    "IQR = Q3 - Q1\n",
    "IQR"
   ]
  },
  {
   "cell_type": "markdown",
   "metadata": {},
   "source": [
    "compute the skewness of the numerical columns"
   ]
  },
  {
   "cell_type": "code",
   "execution_count": 273,
   "metadata": {},
   "outputs": [
    {
     "name": "stderr",
     "output_type": "stream",
     "text": [
      "C:\\Users\\nasser\\AppData\\Local\\Temp\\ipykernel_14660\\945382517.py:1: FutureWarning: The default value of numeric_only in DataFrame.skew is deprecated. In a future version, it will default to False. In addition, specifying 'numeric_only=None' is deprecated. Select only valid columns or specify the value of numeric_only to silence this warning.\n",
      "  car_data.skew()\n"
     ]
    },
    {
     "data": {
      "text/plain": [
       "year                  -1.310555\n",
       "price                  5.056875\n",
       "motor_power            2.843267\n",
       "mileage               82.819080\n",
       "passenger_capacity     0.876538\n",
       "prev_owners           82.819080\n",
       "insurance_cost         3.480413\n",
       "dtype: float64"
      ]
     },
     "execution_count": 273,
     "metadata": {},
     "output_type": "execute_result"
    }
   ],
   "source": [
    "car_data.skew()"
   ]
  },
  {
   "cell_type": "markdown",
   "metadata": {},
   "source": [
    "remove the outliers from the numerical columns using the IQR method "
   ]
  },
  {
   "cell_type": "code",
   "execution_count": 274,
   "metadata": {},
   "outputs": [],
   "source": [
    "car_data['motor_power'].describe()\n",
    "# remove the outliers rows from the motor_power column\n",
    "car_data = car_data[~((car_data['motor_power'] < (Q1['motor_power'] - 1.5 * IQR['motor_power'])) |(car_data['motor_power'] > (Q3['motor_power'] + 1.5 * IQR['motor_power'])))]\n",
    "# remove the outliers rows from the mile_age column\n",
    "car_data = car_data[~((car_data['mileage'] < (Q1['mileage'] - 1.5 * IQR['mileage'])) |(car_data['mileage'] > (Q3['mileage'] + 1.5 * IQR['mileage'])))]\n",
    "# remove the outliers rows from the insurance_cost column\n",
    "car_data = car_data[~((car_data['insurance_cost'] < (Q1['insurance_cost'] - 1.5 * IQR['insurance_cost'])) |(car_data['insurance_cost'] > (Q3['insurance_cost'] + 1.5 * IQR['insurance_cost'])))]"
   ]
  },
  {
   "cell_type": "code",
   "execution_count": 275,
   "metadata": {},
   "outputs": [
    {
     "data": {
      "text/html": [
       "<div>\n",
       "<style scoped>\n",
       "    .dataframe tbody tr th:only-of-type {\n",
       "        vertical-align: middle;\n",
       "    }\n",
       "\n",
       "    .dataframe tbody tr th {\n",
       "        vertical-align: top;\n",
       "    }\n",
       "\n",
       "    .dataframe thead th {\n",
       "        text-align: right;\n",
       "    }\n",
       "</style>\n",
       "<table border=\"1\" class=\"dataframe\">\n",
       "  <thead>\n",
       "    <tr style=\"text-align: right;\">\n",
       "      <th></th>\n",
       "      <th>year</th>\n",
       "      <th>price</th>\n",
       "      <th>motor_power</th>\n",
       "      <th>mileage</th>\n",
       "      <th>passenger_capacity</th>\n",
       "      <th>prev_owners</th>\n",
       "      <th>insurance_cost</th>\n",
       "    </tr>\n",
       "  </thead>\n",
       "  <tbody>\n",
       "    <tr>\n",
       "      <th>count</th>\n",
       "      <td>5816.000000</td>\n",
       "      <td>5816.000000</td>\n",
       "      <td>5816.000000</td>\n",
       "      <td>5816.000000</td>\n",
       "      <td>5816.000000</td>\n",
       "      <td>5.816000e+03</td>\n",
       "      <td>5816.000000</td>\n",
       "    </tr>\n",
       "    <tr>\n",
       "      <th>mean</th>\n",
       "      <td>2008.485213</td>\n",
       "      <td>57043.578061</td>\n",
       "      <td>1659.304849</td>\n",
       "      <td>52342.993294</td>\n",
       "      <td>5.197215</td>\n",
       "      <td>1.356417e+07</td>\n",
       "      <td>2244.945667</td>\n",
       "    </tr>\n",
       "    <tr>\n",
       "      <th>std</th>\n",
       "      <td>8.714767</td>\n",
       "      <td>30416.802293</td>\n",
       "      <td>357.470359</td>\n",
       "      <td>62779.961605</td>\n",
       "      <td>0.765866</td>\n",
       "      <td>1.034436e+09</td>\n",
       "      <td>667.186375</td>\n",
       "    </tr>\n",
       "    <tr>\n",
       "      <th>min</th>\n",
       "      <td>1967.000000</td>\n",
       "      <td>1111.000000</td>\n",
       "      <td>500.000000</td>\n",
       "      <td>0.000000</td>\n",
       "      <td>0.000000</td>\n",
       "      <td>0.000000e+00</td>\n",
       "      <td>967.000000</td>\n",
       "    </tr>\n",
       "    <tr>\n",
       "      <th>25%</th>\n",
       "      <td>2005.000000</td>\n",
       "      <td>35000.000000</td>\n",
       "      <td>1400.000000</td>\n",
       "      <td>0.000000</td>\n",
       "      <td>5.000000</td>\n",
       "      <td>1.000000e+00</td>\n",
       "      <td>2035.000000</td>\n",
       "    </tr>\n",
       "    <tr>\n",
       "      <th>50%</th>\n",
       "      <td>2011.000000</td>\n",
       "      <td>52000.000000</td>\n",
       "      <td>1600.000000</td>\n",
       "      <td>24494.500000</td>\n",
       "      <td>5.000000</td>\n",
       "      <td>2.000000e+00</td>\n",
       "      <td>2340.000000</td>\n",
       "    </tr>\n",
       "    <tr>\n",
       "      <th>75%</th>\n",
       "      <td>2015.000000</td>\n",
       "      <td>75000.000000</td>\n",
       "      <td>2000.000000</td>\n",
       "      <td>92000.000000</td>\n",
       "      <td>5.000000</td>\n",
       "      <td>3.000000e+00</td>\n",
       "      <td>2653.000000</td>\n",
       "    </tr>\n",
       "    <tr>\n",
       "      <th>max</th>\n",
       "      <td>2022.000000</td>\n",
       "      <td>158000.000000</td>\n",
       "      <td>2900.000000</td>\n",
       "      <td>250000.000000</td>\n",
       "      <td>10.000000</td>\n",
       "      <td>7.888888e+10</td>\n",
       "      <td>3826.000000</td>\n",
       "    </tr>\n",
       "  </tbody>\n",
       "</table>\n",
       "</div>"
      ],
      "text/plain": [
       "              year          price  motor_power        mileage  \\\n",
       "count  5816.000000    5816.000000  5816.000000    5816.000000   \n",
       "mean   2008.485213   57043.578061  1659.304849   52342.993294   \n",
       "std       8.714767   30416.802293   357.470359   62779.961605   \n",
       "min    1967.000000    1111.000000   500.000000       0.000000   \n",
       "25%    2005.000000   35000.000000  1400.000000       0.000000   \n",
       "50%    2011.000000   52000.000000  1600.000000   24494.500000   \n",
       "75%    2015.000000   75000.000000  2000.000000   92000.000000   \n",
       "max    2022.000000  158000.000000  2900.000000  250000.000000   \n",
       "\n",
       "       passenger_capacity   prev_owners  insurance_cost  \n",
       "count         5816.000000  5.816000e+03     5816.000000  \n",
       "mean             5.197215  1.356417e+07     2244.945667  \n",
       "std              0.765866  1.034436e+09      667.186375  \n",
       "min              0.000000  0.000000e+00      967.000000  \n",
       "25%              5.000000  1.000000e+00     2035.000000  \n",
       "50%              5.000000  2.000000e+00     2340.000000  \n",
       "75%              5.000000  3.000000e+00     2653.000000  \n",
       "max             10.000000  7.888888e+10     3826.000000  "
      ]
     },
     "execution_count": 275,
     "metadata": {},
     "output_type": "execute_result"
    }
   ],
   "source": [
    "car_data.describe()"
   ]
  },
  {
   "cell_type": "markdown",
   "metadata": {},
   "source": [
    "# Feature Engineering "
   ]
  },
  {
   "cell_type": "markdown",
   "metadata": {},
   "source": [
    "all features extraction and above feature transformation incapsulated in a custom transformers  found in src/transformers.py to be used in the pipeline </br>\n",
    "the transformers are: </br>\n",
    "- DateTransformer: extract the year from the sell_date column </br>\n",
    "- PrevOwnerTransformer : extract the number of previous owners from the prev_owner column  and handle the missing values after the extraction </br>\n",
    "- PassengerCpacityTransformer : extract the passenger capacity from the passenger_capacity column and handle the missing values after the extraction </br>\n",
    "- NominalTransformer : using the one hot encoder to encode the nominal columns </br>\n",
    "- OrdenalTransformer : using the label encoder to encode the ordinal columns  based on given order </br>\n",
    "- ColorTransformer : delete the color column becouse it has alot of unique values and it will make the model overfit </br>\n",
    "- AdditionalInfoTransformer : using the one hot encoder to encode the additional_info column </br>\n",
    "\n"
   ]
  },
  {
   "cell_type": "code",
   "execution_count": 276,
   "metadata": {},
   "outputs": [
    {
     "data": {
      "text/plain": [
       "Index(['car_name', 'year', 'price', 'color', 'fuil_type', 'car_prev_state',\n",
       "       'license_country', 'transimission_type', 'glass_type', 'motor_power',\n",
       "       'mileage', 'passenger_capacity', 'prev_owners', 'additional_info',\n",
       "       'insurance_cost', 'sell_date'],\n",
       "      dtype='object')"
      ]
     },
     "execution_count": 276,
     "metadata": {},
     "output_type": "execute_result"
    }
   ],
   "source": [
    "car_data.columns"
   ]
  },
  {
   "cell_type": "code",
   "execution_count": 277,
   "metadata": {},
   "outputs": [],
   "source": [
    "nomenal_features = ['fuil_type','transimission_type']\n",
    "ordinal_features = [ 'glass_type', 'car_prev_state','license_country']"
   ]
  },
  {
   "cell_type": "code",
   "execution_count": 278,
   "metadata": {},
   "outputs": [
    {
     "data": {
      "image/png": "[encoded data removed]",
      "text/plain": [
       "<Figure size 2000x1000 with 3 Axes>"
      ]
     },
     "metadata": {},
     "output_type": "display_data"
    }
   ],
   "source": [
    "\n",
    "\n",
    "plt.figure(figsize=(20, 10))\n",
    "for index,feature in enumerate(ordinal_features):\n",
    "    plt.subplot(1, 3, index+1)\n",
    "    sns.barplot(x=feature, y='price', data=car_data)\n",
    "    #the arabic text is flipped so i used this code to fix it\n"
   ]
  },
  {
   "cell_type": "code",
   "execution_count": 279,
   "metadata": {},
   "outputs": [],
   "source": [
    "#define the order of the values for each feature \n",
    "\n",
    "ordinal_order = {\n",
    "    'glass_type':{\n",
    "        'يدوي ':1,\n",
    "        'الكتروني ':2\n",
    "    },\n",
    "    'car_prev_state':{\n",
    "        'خصوصي ':1,\n",
    "        'تجاري ':2,\n",
    "        'حكومي ':3,\n",
    "        'عمومي ':4,\n",
    "        'تدريب سياقة ':5,\n",
    "       'تأجير ':6\n",
    "    },\n",
    "    'license_country':{\n",
    "        'فلسطينية ':1,\n",
    "        'نمرة صفراء ':2\n",
    "    }\n",
    "}"
   ]
  },
  {
   "cell_type": "code",
   "execution_count": 280,
   "metadata": {},
   "outputs": [
    {
     "data": {
      "text/plain": [
       "<AxesSubplot: xlabel='color', ylabel='price'>"
      ]
     },
     "execution_count": 280,
     "metadata": {},
     "output_type": "execute_result"
    },
    {
     "data": {
      "image/png": "[encoded data removed]",
      "text/plain": [
       "<Figure size 2000x1000 with 1 Axes>"
      ]
     },
     "metadata": {},
     "output_type": "display_data"
    }
   ],
   "source": [
    "# see if the color has effect on the price or not\n",
    "plt.figure(figsize=(20, 10))\n",
    "sns.barplot(x='color', y='price', data=car_data)\n"
   ]
  },
  {
   "cell_type": "code",
   "execution_count": 281,
   "metadata": {},
   "outputs": [],
   "source": [
    "steps = [(\"Date Transform\", ct.DateTransformer(column='sell_date')),\n",
    "         (\"Prev_owner Transformer\", ct.PrevOwnerTransformer(column='prev_owners')),\n",
    "         (\"Passenger Capacity Transformer\", ct.PassengerCpacityTransformer(column='passenger_capacity')),\n",
    "         (\"Nominal Transformer\", ct.NominalTransformer(columns=nomenal_features)),\n",
    "         (\"Ordenal Transformer\", ct.OrdenalTransformer(columns=ordinal_features, order_dict=ordinal_order)),\n",
    "         (\"Color Transformer\", ct.ColorTransformer(column='color')),\n",
    "         (\"Additional Info Transformer\", ct.AdditionalInfoTransformer(column='additional_info')),]\n",
    "pip = Pipeline(steps)\n",
    "car_data = pip.fit_transform(car_data)\n",
    "car_data.drop(columns=['car_name'], inplace=True)\n",
    "\n"
   ]
  },
  {
   "cell_type": "code",
   "execution_count": 282,
   "metadata": {},
   "outputs": [
    {
     "data": {
      "text/html": [
       "<div>\n",
       "<style scoped>\n",
       "    .dataframe tbody tr th:only-of-type {\n",
       "        vertical-align: middle;\n",
       "    }\n",
       "\n",
       "    .dataframe tbody tr th {\n",
       "        vertical-align: top;\n",
       "    }\n",
       "\n",
       "    .dataframe thead th {\n",
       "        text-align: right;\n",
       "    }\n",
       "</style>\n",
       "<table border=\"1\" class=\"dataframe\">\n",
       "  <thead>\n",
       "    <tr style=\"text-align: right;\">\n",
       "      <th></th>\n",
       "      <th>year</th>\n",
       "      <th>price</th>\n",
       "      <th>car_prev_state</th>\n",
       "      <th>license_country</th>\n",
       "      <th>glass_type</th>\n",
       "      <th>motor_power</th>\n",
       "      <th>mileage</th>\n",
       "      <th>passenger_capacity</th>\n",
       "      <th>prev_owners</th>\n",
       "      <th>insurance_cost</th>\n",
       "      <th>sell_date.year</th>\n",
       "      <th>بنزين</th>\n",
       "      <th>ديزل</th>\n",
       "      <th>كهرباء</th>\n",
       "      <th>هايبرد</th>\n",
       "      <th>اوتوماتيك</th>\n",
       "      <th>عادي</th>\n",
       "      <th>نصف اوتوماتيك</th>\n",
       "      <th>مسجل CD</th>\n",
       "      <th>جهاز إنذار</th>\n",
       "      <th>جنطات مغنيسيوم</th>\n",
       "      <th>فرش جلد</th>\n",
       "      <th>وسادة حماية هوائية</th>\n",
       "      <th>إغلاق مركزي</th>\n",
       "      <th>فتحة سقف</th>\n",
       "      <th>مُكيّف</th>\n",
       "    </tr>\n",
       "  </thead>\n",
       "  <tbody>\n",
       "    <tr>\n",
       "      <th>0</th>\n",
       "      <td>2014</td>\n",
       "      <td>100000</td>\n",
       "      <td>1</td>\n",
       "      <td>1</td>\n",
       "      <td>2</td>\n",
       "      <td>2000</td>\n",
       "      <td>75000.0</td>\n",
       "      <td>5</td>\n",
       "      <td>1</td>\n",
       "      <td>3090</td>\n",
       "      <td>2017</td>\n",
       "      <td>1.0</td>\n",
       "      <td>0.0</td>\n",
       "      <td>0.0</td>\n",
       "      <td>0.0</td>\n",
       "      <td>1.0</td>\n",
       "      <td>0.0</td>\n",
       "      <td>0.0</td>\n",
       "      <td>1</td>\n",
       "      <td>1</td>\n",
       "      <td>1</td>\n",
       "      <td>1</td>\n",
       "      <td>1</td>\n",
       "      <td>1</td>\n",
       "      <td>1</td>\n",
       "      <td>1</td>\n",
       "    </tr>\n",
       "    <tr>\n",
       "      <th>1</th>\n",
       "      <td>2007</td>\n",
       "      <td>60000</td>\n",
       "      <td>1</td>\n",
       "      <td>1</td>\n",
       "      <td>2</td>\n",
       "      <td>2500</td>\n",
       "      <td>130000.0</td>\n",
       "      <td>8</td>\n",
       "      <td>2</td>\n",
       "      <td>2740</td>\n",
       "      <td>2017</td>\n",
       "      <td>0.0</td>\n",
       "      <td>1.0</td>\n",
       "      <td>0.0</td>\n",
       "      <td>0.0</td>\n",
       "      <td>0.0</td>\n",
       "      <td>0.0</td>\n",
       "      <td>1.0</td>\n",
       "      <td>1</td>\n",
       "      <td>1</td>\n",
       "      <td>1</td>\n",
       "      <td>1</td>\n",
       "      <td>1</td>\n",
       "      <td>1</td>\n",
       "      <td>1</td>\n",
       "      <td>1</td>\n",
       "    </tr>\n",
       "    <tr>\n",
       "      <th>2</th>\n",
       "      <td>2006</td>\n",
       "      <td>43500</td>\n",
       "      <td>1</td>\n",
       "      <td>1</td>\n",
       "      <td>2</td>\n",
       "      <td>1600</td>\n",
       "      <td>0.0</td>\n",
       "      <td>5</td>\n",
       "      <td>2</td>\n",
       "      <td>2340</td>\n",
       "      <td>2017</td>\n",
       "      <td>1.0</td>\n",
       "      <td>0.0</td>\n",
       "      <td>0.0</td>\n",
       "      <td>0.0</td>\n",
       "      <td>1.0</td>\n",
       "      <td>0.0</td>\n",
       "      <td>0.0</td>\n",
       "      <td>1</td>\n",
       "      <td>1</td>\n",
       "      <td>1</td>\n",
       "      <td>1</td>\n",
       "      <td>1</td>\n",
       "      <td>1</td>\n",
       "      <td>0</td>\n",
       "      <td>1</td>\n",
       "    </tr>\n",
       "    <tr>\n",
       "      <th>3</th>\n",
       "      <td>1982</td>\n",
       "      <td>5500</td>\n",
       "      <td>1</td>\n",
       "      <td>1</td>\n",
       "      <td>1</td>\n",
       "      <td>906</td>\n",
       "      <td>0.0</td>\n",
       "      <td>5</td>\n",
       "      <td>0</td>\n",
       "      <td>967</td>\n",
       "      <td>2017</td>\n",
       "      <td>1.0</td>\n",
       "      <td>0.0</td>\n",
       "      <td>0.0</td>\n",
       "      <td>0.0</td>\n",
       "      <td>0.0</td>\n",
       "      <td>1.0</td>\n",
       "      <td>0.0</td>\n",
       "      <td>1</td>\n",
       "      <td>0</td>\n",
       "      <td>0</td>\n",
       "      <td>0</td>\n",
       "      <td>0</td>\n",
       "      <td>0</td>\n",
       "      <td>0</td>\n",
       "      <td>1</td>\n",
       "    </tr>\n",
       "    <tr>\n",
       "      <th>4</th>\n",
       "      <td>2014</td>\n",
       "      <td>54000</td>\n",
       "      <td>1</td>\n",
       "      <td>1</td>\n",
       "      <td>2</td>\n",
       "      <td>1200</td>\n",
       "      <td>38000.0</td>\n",
       "      <td>5</td>\n",
       "      <td>1</td>\n",
       "      <td>2035</td>\n",
       "      <td>2017</td>\n",
       "      <td>1.0</td>\n",
       "      <td>0.0</td>\n",
       "      <td>0.0</td>\n",
       "      <td>0.0</td>\n",
       "      <td>1.0</td>\n",
       "      <td>0.0</td>\n",
       "      <td>0.0</td>\n",
       "      <td>0</td>\n",
       "      <td>1</td>\n",
       "      <td>1</td>\n",
       "      <td>0</td>\n",
       "      <td>1</td>\n",
       "      <td>1</td>\n",
       "      <td>0</td>\n",
       "      <td>1</td>\n",
       "    </tr>\n",
       "    <tr>\n",
       "      <th>...</th>\n",
       "      <td>...</td>\n",
       "      <td>...</td>\n",
       "      <td>...</td>\n",
       "      <td>...</td>\n",
       "      <td>...</td>\n",
       "      <td>...</td>\n",
       "      <td>...</td>\n",
       "      <td>...</td>\n",
       "      <td>...</td>\n",
       "      <td>...</td>\n",
       "      <td>...</td>\n",
       "      <td>...</td>\n",
       "      <td>...</td>\n",
       "      <td>...</td>\n",
       "      <td>...</td>\n",
       "      <td>...</td>\n",
       "      <td>...</td>\n",
       "      <td>...</td>\n",
       "      <td>...</td>\n",
       "      <td>...</td>\n",
       "      <td>...</td>\n",
       "      <td>...</td>\n",
       "      <td>...</td>\n",
       "      <td>...</td>\n",
       "      <td>...</td>\n",
       "      <td>...</td>\n",
       "    </tr>\n",
       "    <tr>\n",
       "      <th>5811</th>\n",
       "      <td>2019</td>\n",
       "      <td>95000</td>\n",
       "      <td>1</td>\n",
       "      <td>1</td>\n",
       "      <td>2</td>\n",
       "      <td>1000</td>\n",
       "      <td>49000.0</td>\n",
       "      <td>5</td>\n",
       "      <td>1</td>\n",
       "      <td>2598</td>\n",
       "      <td>2022</td>\n",
       "      <td>1.0</td>\n",
       "      <td>0.0</td>\n",
       "      <td>0.0</td>\n",
       "      <td>0.0</td>\n",
       "      <td>1.0</td>\n",
       "      <td>0.0</td>\n",
       "      <td>0.0</td>\n",
       "      <td>1</td>\n",
       "      <td>1</td>\n",
       "      <td>0</td>\n",
       "      <td>0</td>\n",
       "      <td>1</td>\n",
       "      <td>1</td>\n",
       "      <td>0</td>\n",
       "      <td>1</td>\n",
       "    </tr>\n",
       "    <tr>\n",
       "      <th>5812</th>\n",
       "      <td>2011</td>\n",
       "      <td>45000</td>\n",
       "      <td>1</td>\n",
       "      <td>1</td>\n",
       "      <td>2</td>\n",
       "      <td>1600</td>\n",
       "      <td>0.0</td>\n",
       "      <td>5</td>\n",
       "      <td>2</td>\n",
       "      <td>2340</td>\n",
       "      <td>2022</td>\n",
       "      <td>0.0</td>\n",
       "      <td>1.0</td>\n",
       "      <td>0.0</td>\n",
       "      <td>0.0</td>\n",
       "      <td>0.0</td>\n",
       "      <td>1.0</td>\n",
       "      <td>0.0</td>\n",
       "      <td>0</td>\n",
       "      <td>1</td>\n",
       "      <td>1</td>\n",
       "      <td>0</td>\n",
       "      <td>1</td>\n",
       "      <td>1</td>\n",
       "      <td>0</td>\n",
       "      <td>1</td>\n",
       "    </tr>\n",
       "    <tr>\n",
       "      <th>5813</th>\n",
       "      <td>2019</td>\n",
       "      <td>97000</td>\n",
       "      <td>1</td>\n",
       "      <td>1</td>\n",
       "      <td>2</td>\n",
       "      <td>1000</td>\n",
       "      <td>70000.0</td>\n",
       "      <td>5</td>\n",
       "      <td>0</td>\n",
       "      <td>2633</td>\n",
       "      <td>2022</td>\n",
       "      <td>1.0</td>\n",
       "      <td>0.0</td>\n",
       "      <td>0.0</td>\n",
       "      <td>0.0</td>\n",
       "      <td>1.0</td>\n",
       "      <td>0.0</td>\n",
       "      <td>0.0</td>\n",
       "      <td>0</td>\n",
       "      <td>1</td>\n",
       "      <td>1</td>\n",
       "      <td>1</td>\n",
       "      <td>1</td>\n",
       "      <td>1</td>\n",
       "      <td>0</td>\n",
       "      <td>1</td>\n",
       "    </tr>\n",
       "    <tr>\n",
       "      <th>5814</th>\n",
       "      <td>2019</td>\n",
       "      <td>82000</td>\n",
       "      <td>1</td>\n",
       "      <td>1</td>\n",
       "      <td>2</td>\n",
       "      <td>1600</td>\n",
       "      <td>70000.0</td>\n",
       "      <td>5</td>\n",
       "      <td>0</td>\n",
       "      <td>2775</td>\n",
       "      <td>2022</td>\n",
       "      <td>1.0</td>\n",
       "      <td>0.0</td>\n",
       "      <td>0.0</td>\n",
       "      <td>0.0</td>\n",
       "      <td>1.0</td>\n",
       "      <td>0.0</td>\n",
       "      <td>0.0</td>\n",
       "      <td>1</td>\n",
       "      <td>1</td>\n",
       "      <td>1</td>\n",
       "      <td>1</td>\n",
       "      <td>1</td>\n",
       "      <td>1</td>\n",
       "      <td>1</td>\n",
       "      <td>1</td>\n",
       "    </tr>\n",
       "    <tr>\n",
       "      <th>5815</th>\n",
       "      <td>2019</td>\n",
       "      <td>130000</td>\n",
       "      <td>1</td>\n",
       "      <td>1</td>\n",
       "      <td>2</td>\n",
       "      <td>2000</td>\n",
       "      <td>130000.0</td>\n",
       "      <td>5</td>\n",
       "      <td>1</td>\n",
       "      <td>3615</td>\n",
       "      <td>2022</td>\n",
       "      <td>0.0</td>\n",
       "      <td>1.0</td>\n",
       "      <td>0.0</td>\n",
       "      <td>0.0</td>\n",
       "      <td>1.0</td>\n",
       "      <td>0.0</td>\n",
       "      <td>0.0</td>\n",
       "      <td>0</td>\n",
       "      <td>0</td>\n",
       "      <td>1</td>\n",
       "      <td>1</td>\n",
       "      <td>0</td>\n",
       "      <td>1</td>\n",
       "      <td>0</td>\n",
       "      <td>1</td>\n",
       "    </tr>\n",
       "  </tbody>\n",
       "</table>\n",
       "<p>5816 rows × 26 columns</p>\n",
       "</div>"
      ],
      "text/plain": [
       "      year   price  car_prev_state  license_country  glass_type  motor_power  \\\n",
       "0     2014  100000               1                1           2         2000   \n",
       "1     2007   60000               1                1           2         2500   \n",
       "2     2006   43500               1                1           2         1600   \n",
       "3     1982    5500               1                1           1          906   \n",
       "4     2014   54000               1                1           2         1200   \n",
       "...    ...     ...             ...              ...         ...          ...   \n",
       "5811  2019   95000               1                1           2         1000   \n",
       "5812  2011   45000               1                1           2         1600   \n",
       "5813  2019   97000               1                1           2         1000   \n",
       "5814  2019   82000               1                1           2         1600   \n",
       "5815  2019  130000               1                1           2         2000   \n",
       "\n",
       "       mileage  passenger_capacity  prev_owners  insurance_cost  \\\n",
       "0      75000.0                   5            1            3090   \n",
       "1     130000.0                   8            2            2740   \n",
       "2          0.0                   5            2            2340   \n",
       "3          0.0                   5            0             967   \n",
       "4      38000.0                   5            1            2035   \n",
       "...        ...                 ...          ...             ...   \n",
       "5811   49000.0                   5            1            2598   \n",
       "5812       0.0                   5            2            2340   \n",
       "5813   70000.0                   5            0            2633   \n",
       "5814   70000.0                   5            0            2775   \n",
       "5815  130000.0                   5            1            3615   \n",
       "\n",
       "      sell_date.year  بنزين   ديزل   كهرباء   هايبرد   اوتوماتيك   عادي   \\\n",
       "0               2017     1.0    0.0      0.0      0.0         1.0    0.0   \n",
       "1               2017     0.0    1.0      0.0      0.0         0.0    0.0   \n",
       "2               2017     1.0    0.0      0.0      0.0         1.0    0.0   \n",
       "3               2017     1.0    0.0      0.0      0.0         0.0    1.0   \n",
       "4               2017     1.0    0.0      0.0      0.0         1.0    0.0   \n",
       "...              ...     ...    ...      ...      ...         ...    ...   \n",
       "5811            2022     1.0    0.0      0.0      0.0         1.0    0.0   \n",
       "5812            2022     0.0    1.0      0.0      0.0         0.0    1.0   \n",
       "5813            2022     1.0    0.0      0.0      0.0         1.0    0.0   \n",
       "5814            2022     1.0    0.0      0.0      0.0         1.0    0.0   \n",
       "5815            2022     0.0    1.0      0.0      0.0         1.0    0.0   \n",
       "\n",
       "      نصف اوتوماتيك   مسجل CD  جهاز إنذار  جنطات مغنيسيوم  فرش جلد  \\\n",
       "0                0.0        1           1               1        1   \n",
       "1                1.0        1           1               1        1   \n",
       "2                0.0        1           1               1        1   \n",
       "3                0.0        1           0               0        0   \n",
       "4                0.0        0           1               1        0   \n",
       "...              ...      ...         ...             ...      ...   \n",
       "5811             0.0        1           1               0        0   \n",
       "5812             0.0        0           1               1        0   \n",
       "5813             0.0        0           1               1        1   \n",
       "5814             0.0        1           1               1        1   \n",
       "5815             0.0        0           0               1        1   \n",
       "\n",
       "      وسادة حماية هوائية  إغلاق مركزي  فتحة سقف  مُكيّف  \n",
       "0                      1            1         1       1  \n",
       "1                      1            1         1       1  \n",
       "2                      1            1         0       1  \n",
       "3                      0            0         0       1  \n",
       "4                      1            1         0       1  \n",
       "...                  ...          ...       ...     ...  \n",
       "5811                   1            1         0       1  \n",
       "5812                   1            1         0       1  \n",
       "5813                   1            1         0       1  \n",
       "5814                   1            1         1       1  \n",
       "5815                   0            1         0       1  \n",
       "\n",
       "[5816 rows x 26 columns]"
      ]
     },
     "execution_count": 282,
     "metadata": {},
     "output_type": "execute_result"
    }
   ],
   "source": [
    "car_data"
   ]
  },
  {
   "cell_type": "code",
   "execution_count": 296,
   "metadata": {},
   "outputs": [
    {
     "name": "stdout",
     "output_type": "stream",
     "text": [
      "0.7631073843762801\n",
      "-2394499.17786292\n"
     ]
    }
   ],
   "source": [
    "# # #polynomial regression\n",
    "# from sklearn.preprocessing import PolynomialFeatures\n",
    "# from sklearn.linear_model import LinearRegression\n",
    "# from sklearn.model_selection import train_test_split   \n",
    "# # apply normalization to the data using sklearn\n",
    "# from sklearn.preprocessing import MinMaxScaler\n",
    "# scaler = MinMaxScaler()\n",
    "# scaler.fit(car_data)\n",
    "# car_data = pd.DataFrame(scaler.transform(car_data), columns=car_data.columns)\n",
    "# x_train, x_test, y_train, y_test = train_test_split(car_data.drop('price', axis=1), car_data['price'], test_size=0.33, random_state=42)\n",
    "# poly = PolynomialFeatures(degree=2)\n",
    "# x_train_poly = poly.fit_transform(x_train)\n",
    "# x_test_poly = poly.fit_transform(x_test)\n",
    "# poly.fit(x_train_poly, y_train)\n",
    "# model = LinearRegression()\n",
    "# model.fit(x_train_poly, y_train)\n",
    "# print(model.score(x_train_poly, y_train))\n",
    "# print(model.score(x_test_poly, y_test))\n",
    "\n",
    "# the model is overfitting so we will use regularization Rige with polynomial features \n",
    "from sklearn.preprocessing import PolynomialFeatures\n",
    "from sklearn.linear_model import LinearRegression\n",
    "from sklearn.model_selection import train_test_split   \n",
    "# apply normalization to the data using sklearn\n",
    "from sklearn.preprocessing import MinMaxScaler\n",
    "from sklearn.linear_model import Ridge\n",
    "scaler = MinMaxScaler()\n",
    "scaler.fit(car_data)\n",
    "car_data = pd.DataFrame(scaler.transform(car_data), columns=car_data.columns)\n",
    "x_train, x_test, y_train, y_test = train_test_split(car_data.drop('price', axis=1), car_data['price'], test_size=0.33, random_state=42)\n",
    "# poly = PolynomialFeatures(degree=5)\n",
    "# x_train_poly = poly.fit_transform(x_train)\n",
    "# x_test_poly = poly.fit_transform(x_test)\n",
    "\n",
    "# model = Ridge(alpha=0.1)\n",
    "# model.fit(x_train_poly, y_train)\n",
    "# print(model.score(x_train_poly, y_train))\n",
    "# print(model.score(x_test_poly, y_test))\n",
    "\n",
    "\n",
    "# draw a plot to determine the best alpha value and the best degree for the polynomial features in 3d plot\n",
    "# max_degree = 5\n",
    "# scores = []\n",
    "# for degree in range(1, max_degree+1):\n",
    "#     poly = PolynomialFeatures(degree=degree)\n",
    "#     x_train_poly = poly.fit_transform(x_train)\n",
    "#     x_test_poly = poly.fit_transform(x_test)\n",
    "#     for alpha in np.arange(0.1, 1.1, 0.1):\n",
    "#         model = Ridge(alpha=alpha)\n",
    "#         model.fit(x_train_poly, y_train)\n",
    "#         scores.append([degree, alpha, model.score(x_train_poly, y_train), model.score(x_test_poly, y_test)])\n",
    "# scores = pd.DataFrame(scores, columns=['degree', 'alpha', 'train_score', 'test_score'])\n",
    "# scores\n",
    "\n"
   ]
  },
  {
   "cell_type": "code",
   "execution_count": 292,
   "metadata": {},
   "outputs": [
    {
     "data": {
      "text/html": [
       "<div>\n",
       "<style scoped>\n",
       "    .dataframe tbody tr th:only-of-type {\n",
       "        vertical-align: middle;\n",
       "    }\n",
       "\n",
       "    .dataframe tbody tr th {\n",
       "        vertical-align: top;\n",
       "    }\n",
       "\n",
       "    .dataframe thead th {\n",
       "        text-align: right;\n",
       "    }\n",
       "</style>\n",
       "<table border=\"1\" class=\"dataframe\">\n",
       "  <thead>\n",
       "    <tr style=\"text-align: right;\">\n",
       "      <th></th>\n",
       "      <th>degree</th>\n",
       "      <th>alpha</th>\n",
       "      <th>train_score</th>\n",
       "      <th>test_score</th>\n",
       "      <th>diff</th>\n",
       "    </tr>\n",
       "  </thead>\n",
       "  <tbody>\n",
       "    <tr>\n",
       "      <th>0</th>\n",
       "      <td>1</td>\n",
       "      <td>0.1</td>\n",
       "      <td>0.763156</td>\n",
       "      <td>0.752386</td>\n",
       "      <td>0.010770</td>\n",
       "    </tr>\n",
       "    <tr>\n",
       "      <th>1</th>\n",
       "      <td>1</td>\n",
       "      <td>0.2</td>\n",
       "      <td>0.763155</td>\n",
       "      <td>0.752412</td>\n",
       "      <td>0.010744</td>\n",
       "    </tr>\n",
       "    <tr>\n",
       "      <th>2</th>\n",
       "      <td>1</td>\n",
       "      <td>0.3</td>\n",
       "      <td>0.763154</td>\n",
       "      <td>0.752436</td>\n",
       "      <td>0.010718</td>\n",
       "    </tr>\n",
       "    <tr>\n",
       "      <th>3</th>\n",
       "      <td>1</td>\n",
       "      <td>0.4</td>\n",
       "      <td>0.763152</td>\n",
       "      <td>0.752460</td>\n",
       "      <td>0.010692</td>\n",
       "    </tr>\n",
       "    <tr>\n",
       "      <th>4</th>\n",
       "      <td>1</td>\n",
       "      <td>0.5</td>\n",
       "      <td>0.763149</td>\n",
       "      <td>0.752483</td>\n",
       "      <td>0.010666</td>\n",
       "    </tr>\n",
       "    <tr>\n",
       "      <th>5</th>\n",
       "      <td>1</td>\n",
       "      <td>0.6</td>\n",
       "      <td>0.763146</td>\n",
       "      <td>0.752506</td>\n",
       "      <td>0.010640</td>\n",
       "    </tr>\n",
       "    <tr>\n",
       "      <th>6</th>\n",
       "      <td>1</td>\n",
       "      <td>0.7</td>\n",
       "      <td>0.763142</td>\n",
       "      <td>0.752527</td>\n",
       "      <td>0.010615</td>\n",
       "    </tr>\n",
       "    <tr>\n",
       "      <th>7</th>\n",
       "      <td>1</td>\n",
       "      <td>0.8</td>\n",
       "      <td>0.763138</td>\n",
       "      <td>0.752548</td>\n",
       "      <td>0.010590</td>\n",
       "    </tr>\n",
       "    <tr>\n",
       "      <th>8</th>\n",
       "      <td>1</td>\n",
       "      <td>0.9</td>\n",
       "      <td>0.763133</td>\n",
       "      <td>0.752568</td>\n",
       "      <td>0.010565</td>\n",
       "    </tr>\n",
       "    <tr>\n",
       "      <th>9</th>\n",
       "      <td>1</td>\n",
       "      <td>1.0</td>\n",
       "      <td>0.763127</td>\n",
       "      <td>0.752588</td>\n",
       "      <td>0.010540</td>\n",
       "    </tr>\n",
       "    <tr>\n",
       "      <th>10</th>\n",
       "      <td>2</td>\n",
       "      <td>0.1</td>\n",
       "      <td>0.908633</td>\n",
       "      <td>0.889809</td>\n",
       "      <td>0.018824</td>\n",
       "    </tr>\n",
       "    <tr>\n",
       "      <th>11</th>\n",
       "      <td>2</td>\n",
       "      <td>0.2</td>\n",
       "      <td>0.908312</td>\n",
       "      <td>0.890398</td>\n",
       "      <td>0.017915</td>\n",
       "    </tr>\n",
       "    <tr>\n",
       "      <th>12</th>\n",
       "      <td>2</td>\n",
       "      <td>0.3</td>\n",
       "      <td>0.907983</td>\n",
       "      <td>0.890571</td>\n",
       "      <td>0.017412</td>\n",
       "    </tr>\n",
       "    <tr>\n",
       "      <th>13</th>\n",
       "      <td>2</td>\n",
       "      <td>0.4</td>\n",
       "      <td>0.907633</td>\n",
       "      <td>0.890571</td>\n",
       "      <td>0.017062</td>\n",
       "    </tr>\n",
       "    <tr>\n",
       "      <th>14</th>\n",
       "      <td>2</td>\n",
       "      <td>0.5</td>\n",
       "      <td>0.907265</td>\n",
       "      <td>0.890472</td>\n",
       "      <td>0.016793</td>\n",
       "    </tr>\n",
       "    <tr>\n",
       "      <th>15</th>\n",
       "      <td>2</td>\n",
       "      <td>0.6</td>\n",
       "      <td>0.906882</td>\n",
       "      <td>0.890305</td>\n",
       "      <td>0.016576</td>\n",
       "    </tr>\n",
       "    <tr>\n",
       "      <th>16</th>\n",
       "      <td>2</td>\n",
       "      <td>0.7</td>\n",
       "      <td>0.906487</td>\n",
       "      <td>0.890091</td>\n",
       "      <td>0.016397</td>\n",
       "    </tr>\n",
       "    <tr>\n",
       "      <th>17</th>\n",
       "      <td>2</td>\n",
       "      <td>0.8</td>\n",
       "      <td>0.906085</td>\n",
       "      <td>0.889841</td>\n",
       "      <td>0.016244</td>\n",
       "    </tr>\n",
       "    <tr>\n",
       "      <th>18</th>\n",
       "      <td>2</td>\n",
       "      <td>0.9</td>\n",
       "      <td>0.905676</td>\n",
       "      <td>0.889564</td>\n",
       "      <td>0.016112</td>\n",
       "    </tr>\n",
       "    <tr>\n",
       "      <th>19</th>\n",
       "      <td>2</td>\n",
       "      <td>1.0</td>\n",
       "      <td>0.905264</td>\n",
       "      <td>0.889266</td>\n",
       "      <td>0.015997</td>\n",
       "    </tr>\n",
       "    <tr>\n",
       "      <th>20</th>\n",
       "      <td>3</td>\n",
       "      <td>0.1</td>\n",
       "      <td>0.942719</td>\n",
       "      <td>0.853680</td>\n",
       "      <td>0.089039</td>\n",
       "    </tr>\n",
       "    <tr>\n",
       "      <th>21</th>\n",
       "      <td>3</td>\n",
       "      <td>0.2</td>\n",
       "      <td>0.939399</td>\n",
       "      <td>0.864160</td>\n",
       "      <td>0.075239</td>\n",
       "    </tr>\n",
       "    <tr>\n",
       "      <th>22</th>\n",
       "      <td>3</td>\n",
       "      <td>0.3</td>\n",
       "      <td>0.937252</td>\n",
       "      <td>0.869030</td>\n",
       "      <td>0.068222</td>\n",
       "    </tr>\n",
       "    <tr>\n",
       "      <th>23</th>\n",
       "      <td>3</td>\n",
       "      <td>0.4</td>\n",
       "      <td>0.935642</td>\n",
       "      <td>0.872019</td>\n",
       "      <td>0.063624</td>\n",
       "    </tr>\n",
       "    <tr>\n",
       "      <th>24</th>\n",
       "      <td>3</td>\n",
       "      <td>0.5</td>\n",
       "      <td>0.934346</td>\n",
       "      <td>0.874105</td>\n",
       "      <td>0.060241</td>\n",
       "    </tr>\n",
       "    <tr>\n",
       "      <th>25</th>\n",
       "      <td>3</td>\n",
       "      <td>0.6</td>\n",
       "      <td>0.933256</td>\n",
       "      <td>0.875674</td>\n",
       "      <td>0.057582</td>\n",
       "    </tr>\n",
       "    <tr>\n",
       "      <th>26</th>\n",
       "      <td>3</td>\n",
       "      <td>0.7</td>\n",
       "      <td>0.932314</td>\n",
       "      <td>0.876910</td>\n",
       "      <td>0.055404</td>\n",
       "    </tr>\n",
       "    <tr>\n",
       "      <th>27</th>\n",
       "      <td>3</td>\n",
       "      <td>0.8</td>\n",
       "      <td>0.931482</td>\n",
       "      <td>0.877917</td>\n",
       "      <td>0.053565</td>\n",
       "    </tr>\n",
       "    <tr>\n",
       "      <th>28</th>\n",
       "      <td>3</td>\n",
       "      <td>0.9</td>\n",
       "      <td>0.930737</td>\n",
       "      <td>0.878757</td>\n",
       "      <td>0.051980</td>\n",
       "    </tr>\n",
       "    <tr>\n",
       "      <th>29</th>\n",
       "      <td>3</td>\n",
       "      <td>1.0</td>\n",
       "      <td>0.930061</td>\n",
       "      <td>0.879470</td>\n",
       "      <td>0.050591</td>\n",
       "    </tr>\n",
       "    <tr>\n",
       "      <th>30</th>\n",
       "      <td>4</td>\n",
       "      <td>0.1</td>\n",
       "      <td>0.966864</td>\n",
       "      <td>0.787082</td>\n",
       "      <td>0.179782</td>\n",
       "    </tr>\n",
       "    <tr>\n",
       "      <th>31</th>\n",
       "      <td>4</td>\n",
       "      <td>0.2</td>\n",
       "      <td>0.962953</td>\n",
       "      <td>0.819033</td>\n",
       "      <td>0.143920</td>\n",
       "    </tr>\n",
       "    <tr>\n",
       "      <th>32</th>\n",
       "      <td>4</td>\n",
       "      <td>0.3</td>\n",
       "      <td>0.960465</td>\n",
       "      <td>0.832961</td>\n",
       "      <td>0.127505</td>\n",
       "    </tr>\n",
       "    <tr>\n",
       "      <th>33</th>\n",
       "      <td>4</td>\n",
       "      <td>0.4</td>\n",
       "      <td>0.958594</td>\n",
       "      <td>0.841232</td>\n",
       "      <td>0.117362</td>\n",
       "    </tr>\n",
       "    <tr>\n",
       "      <th>34</th>\n",
       "      <td>4</td>\n",
       "      <td>0.5</td>\n",
       "      <td>0.957076</td>\n",
       "      <td>0.846871</td>\n",
       "      <td>0.110206</td>\n",
       "    </tr>\n",
       "    <tr>\n",
       "      <th>35</th>\n",
       "      <td>4</td>\n",
       "      <td>0.6</td>\n",
       "      <td>0.955791</td>\n",
       "      <td>0.851029</td>\n",
       "      <td>0.104762</td>\n",
       "    </tr>\n",
       "    <tr>\n",
       "      <th>36</th>\n",
       "      <td>4</td>\n",
       "      <td>0.7</td>\n",
       "      <td>0.954673</td>\n",
       "      <td>0.854257</td>\n",
       "      <td>0.100416</td>\n",
       "    </tr>\n",
       "    <tr>\n",
       "      <th>37</th>\n",
       "      <td>4</td>\n",
       "      <td>0.8</td>\n",
       "      <td>0.953680</td>\n",
       "      <td>0.856854</td>\n",
       "      <td>0.096826</td>\n",
       "    </tr>\n",
       "    <tr>\n",
       "      <th>38</th>\n",
       "      <td>4</td>\n",
       "      <td>0.9</td>\n",
       "      <td>0.952787</td>\n",
       "      <td>0.859000</td>\n",
       "      <td>0.093786</td>\n",
       "    </tr>\n",
       "    <tr>\n",
       "      <th>39</th>\n",
       "      <td>4</td>\n",
       "      <td>1.0</td>\n",
       "      <td>0.951973</td>\n",
       "      <td>0.860811</td>\n",
       "      <td>0.091162</td>\n",
       "    </tr>\n",
       "    <tr>\n",
       "      <th>40</th>\n",
       "      <td>5</td>\n",
       "      <td>0.1</td>\n",
       "      <td>0.977972</td>\n",
       "      <td>0.670211</td>\n",
       "      <td>0.307761</td>\n",
       "    </tr>\n",
       "    <tr>\n",
       "      <th>41</th>\n",
       "      <td>5</td>\n",
       "      <td>0.2</td>\n",
       "      <td>0.974981</td>\n",
       "      <td>0.733838</td>\n",
       "      <td>0.241143</td>\n",
       "    </tr>\n",
       "    <tr>\n",
       "      <th>42</th>\n",
       "      <td>5</td>\n",
       "      <td>0.3</td>\n",
       "      <td>0.973054</td>\n",
       "      <td>0.763274</td>\n",
       "      <td>0.209780</td>\n",
       "    </tr>\n",
       "    <tr>\n",
       "      <th>43</th>\n",
       "      <td>5</td>\n",
       "      <td>0.4</td>\n",
       "      <td>0.971609</td>\n",
       "      <td>0.781098</td>\n",
       "      <td>0.190511</td>\n",
       "    </tr>\n",
       "    <tr>\n",
       "      <th>44</th>\n",
       "      <td>5</td>\n",
       "      <td>0.5</td>\n",
       "      <td>0.970443</td>\n",
       "      <td>0.793334</td>\n",
       "      <td>0.177109</td>\n",
       "    </tr>\n",
       "    <tr>\n",
       "      <th>45</th>\n",
       "      <td>5</td>\n",
       "      <td>0.6</td>\n",
       "      <td>0.969459</td>\n",
       "      <td>0.802385</td>\n",
       "      <td>0.167074</td>\n",
       "    </tr>\n",
       "    <tr>\n",
       "      <th>46</th>\n",
       "      <td>5</td>\n",
       "      <td>0.7</td>\n",
       "      <td>0.968603</td>\n",
       "      <td>0.809421</td>\n",
       "      <td>0.159182</td>\n",
       "    </tr>\n",
       "    <tr>\n",
       "      <th>47</th>\n",
       "      <td>5</td>\n",
       "      <td>0.8</td>\n",
       "      <td>0.967843</td>\n",
       "      <td>0.815090</td>\n",
       "      <td>0.152753</td>\n",
       "    </tr>\n",
       "    <tr>\n",
       "      <th>48</th>\n",
       "      <td>5</td>\n",
       "      <td>0.9</td>\n",
       "      <td>0.967158</td>\n",
       "      <td>0.819782</td>\n",
       "      <td>0.147376</td>\n",
       "    </tr>\n",
       "    <tr>\n",
       "      <th>49</th>\n",
       "      <td>5</td>\n",
       "      <td>1.0</td>\n",
       "      <td>0.966533</td>\n",
       "      <td>0.823747</td>\n",
       "      <td>0.142786</td>\n",
       "    </tr>\n",
       "  </tbody>\n",
       "</table>\n",
       "</div>"
      ],
      "text/plain": [
       "    degree  alpha  train_score  test_score      diff\n",
       "0        1    0.1     0.763156    0.752386  0.010770\n",
       "1        1    0.2     0.763155    0.752412  0.010744\n",
       "2        1    0.3     0.763154    0.752436  0.010718\n",
       "3        1    0.4     0.763152    0.752460  0.010692\n",
       "4        1    0.5     0.763149    0.752483  0.010666\n",
       "5        1    0.6     0.763146    0.752506  0.010640\n",
       "6        1    0.7     0.763142    0.752527  0.010615\n",
       "7        1    0.8     0.763138    0.752548  0.010590\n",
       "8        1    0.9     0.763133    0.752568  0.010565\n",
       "9        1    1.0     0.763127    0.752588  0.010540\n",
       "10       2    0.1     0.908633    0.889809  0.018824\n",
       "11       2    0.2     0.908312    0.890398  0.017915\n",
       "12       2    0.3     0.907983    0.890571  0.017412\n",
       "13       2    0.4     0.907633    0.890571  0.017062\n",
       "14       2    0.5     0.907265    0.890472  0.016793\n",
       "15       2    0.6     0.906882    0.890305  0.016576\n",
       "16       2    0.7     0.906487    0.890091  0.016397\n",
       "17       2    0.8     0.906085    0.889841  0.016244\n",
       "18       2    0.9     0.905676    0.889564  0.016112\n",
       "19       2    1.0     0.905264    0.889266  0.015997\n",
       "20       3    0.1     0.942719    0.853680  0.089039\n",
       "21       3    0.2     0.939399    0.864160  0.075239\n",
       "22       3    0.3     0.937252    0.869030  0.068222\n",
       "23       3    0.4     0.935642    0.872019  0.063624\n",
       "24       3    0.5     0.934346    0.874105  0.060241\n",
       "25       3    0.6     0.933256    0.875674  0.057582\n",
       "26       3    0.7     0.932314    0.876910  0.055404\n",
       "27       3    0.8     0.931482    0.877917  0.053565\n",
       "28       3    0.9     0.930737    0.878757  0.051980\n",
       "29       3    1.0     0.930061    0.879470  0.050591\n",
       "30       4    0.1     0.966864    0.787082  0.179782\n",
       "31       4    0.2     0.962953    0.819033  0.143920\n",
       "32       4    0.3     0.960465    0.832961  0.127505\n",
       "33       4    0.4     0.958594    0.841232  0.117362\n",
       "34       4    0.5     0.957076    0.846871  0.110206\n",
       "35       4    0.6     0.955791    0.851029  0.104762\n",
       "36       4    0.7     0.954673    0.854257  0.100416\n",
       "37       4    0.8     0.953680    0.856854  0.096826\n",
       "38       4    0.9     0.952787    0.859000  0.093786\n",
       "39       4    1.0     0.951973    0.860811  0.091162\n",
       "40       5    0.1     0.977972    0.670211  0.307761\n",
       "41       5    0.2     0.974981    0.733838  0.241143\n",
       "42       5    0.3     0.973054    0.763274  0.209780\n",
       "43       5    0.4     0.971609    0.781098  0.190511\n",
       "44       5    0.5     0.970443    0.793334  0.177109\n",
       "45       5    0.6     0.969459    0.802385  0.167074\n",
       "46       5    0.7     0.968603    0.809421  0.159182\n",
       "47       5    0.8     0.967843    0.815090  0.152753\n",
       "48       5    0.9     0.967158    0.819782  0.147376\n",
       "49       5    1.0     0.966533    0.823747  0.142786"
      ]
     },
     "execution_count": 292,
     "metadata": {},
     "output_type": "execute_result"
    }
   ],
   "source": [
    "# scores['diff'] = scores['train_score'] - scores['test_score']\n",
    "# # see  the score[diff] in a plot\n",
    "# scores"
   ]
  },
  {
   "cell_type": "code",
   "execution_count": 293,
   "metadata": {},
   "outputs": [
    {
     "data": {
      "text/plain": [
       "9"
      ]
     },
     "execution_count": 293,
     "metadata": {},
     "output_type": "execute_result"
    }
   ],
   "source": [
    "# # get the index of the best model\n",
    "# best_model_index = scores['diff'].idxmin() \n",
    "# best_model_index"
   ]
  },
  {
   "cell_type": "code",
   "execution_count": 286,
   "metadata": {},
   "outputs": [
    {
     "data": {
      "text/plain": [
       "([<matplotlib.axis.XTick at 0x2cc627b52e0>,\n",
       "  <matplotlib.axis.XTick at 0x2cc627b5460>,\n",
       "  <matplotlib.axis.XTick at 0x2cc60331ac0>,\n",
       "  <matplotlib.axis.XTick at 0x2cc600beaf0>,\n",
       "  <matplotlib.axis.XTick at 0x2cc5fc7e8b0>,\n",
       "  <matplotlib.axis.XTick at 0x2cc5ff29610>,\n",
       "  <matplotlib.axis.XTick at 0x2cc5fc7e580>,\n",
       "  <matplotlib.axis.XTick at 0x2cc44053d90>,\n",
       "  <matplotlib.axis.XTick at 0x2cc60393e80>,\n",
       "  <matplotlib.axis.XTick at 0x2cc60147040>],\n",
       " [Text(0, 0, '0'),\n",
       "  Text(1, 0, '1'),\n",
       "  Text(2, 0, '2'),\n",
       "  Text(3, 0, '3'),\n",
       "  Text(4, 0, '4'),\n",
       "  Text(5, 0, '5'),\n",
       "  Text(6, 0, '6'),\n",
       "  Text(7, 0, '7'),\n",
       "  Text(8, 0, '8'),\n",
       "  Text(9, 0, '9')])"
      ]
     },
     "execution_count": 286,
     "metadata": {},
     "output_type": "execute_result"
    },
    {
     "data": {
      "image/png": "[encoded data removed]",
      "text/plain": [
       "<Figure size 2000x1000 with 1 Axes>"
      ]
     },
     "metadata": {},
     "output_type": "display_data"
    }
   ],
   "source": [
    "# # draw the index in x-axis and the diff in y-axis but show all the x-axis values\n",
    "# plt.figure(figsize=(20, 10))\n",
    "# plt.plot(scores['diff'])\n",
    "# plt.xticks(range(len(scores['diff'])), scores['diff'].index)"
   ]
  },
  {
   "cell_type": "code",
   "execution_count": 287,
   "metadata": {},
   "outputs": [
    {
     "name": "stderr",
     "output_type": "stream",
     "text": [
      "C:\\Users\\nasser\\AppData\\Local\\Temp\\ipykernel_14660\\3172705303.py:1: FutureWarning: In a future version of pandas all arguments of DataFrame.pivot will be keyword-only.\n",
      "  plt = sns.heatmap(scores.pivot('degree', 'alpha', 'train_score'), annot=True, fmt='.2f')\n"
     ]
    },
    {
     "data": {
      "image/png": "[encoded data removed]",
      "text/plain": [
       "<Figure size 640x480 with 2 Axes>"
      ]
     },
     "metadata": {},
     "output_type": "display_data"
    }
   ],
   "source": [
    "# plt = sns.heatmap(scores.pivot('degree', 'alpha', 'train_score'), annot=True, fmt='.2f')\n"
   ]
  },
  {
   "cell_type": "code",
   "execution_count": 288,
   "metadata": {},
   "outputs": [],
   "source": [
    "# # decision tree\n",
    "# from sklearn.tree import DecisionTreeRegressor\n",
    "# from sklearn.model_selection import train_test_split\n",
    "# x_train, x_test, y_train, y_test = train_test_split(car_data.drop('price', axis=1), car_data['price'], test_size=0.33, random_state=42)\n",
    "# model = DecisionTreeRegressor()\n",
    "# model.fit(x_train, y_train)\n",
    "# print(model.score(x_train, y_train))\n",
    "\n",
    "# # print the score of the model on the test data\n",
    "# print(model.score(x_test, y_test))"
   ]
  },
  {
   "cell_type": "code",
   "execution_count": 289,
   "metadata": {},
   "outputs": [
    {
     "name": "stdout",
     "output_type": "stream",
     "text": [
      "0.8801266901442801\n",
      "0.7843796514898268\n"
     ]
    }
   ],
   "source": [
    "# # KNN \n",
    "# from sklearn.neighbors import KNeighborsRegressor\n",
    "# from sklearn.model_selection import train_test_split\n",
    "# x_train, x_test, y_train, y_test = train_test_split(car_data.drop('price', axis=1), car_data['price'], test_size=0.33, random_state=42)\n",
    "# model = KNeighborsRegressor(n_neighbors=5)\n",
    "# model.fit(x_train, y_train)\n",
    "# print(model.score(x_train, y_train))\n",
    "# print(model.score(x_test, y_test))"
   ]
  },
  {
   "cell_type": "code",
   "execution_count": null,
   "metadata": {},
   "outputs": [],
   "source": []
  }
 ],
 "metadata": {
  "kernelspec": {
   "display_name": "Python 3.9.0 64-bit",
   "language": "python",
   "name": "python3"
  },
  "language_info": {
   "codemirror_mode": {
    "name": "ipython",
    "version": 3
   },
   "file_extension": ".py",
   "mimetype": "text/x-python",
   "name": "python",
   "nbconvert_exporter": "python",
   "pygments_lexer": "ipython3",
   "version": "3.9.0"
  },
  "orig_nbformat": 4,
  "vscode": {
   "interpreter": {
    "hash": "27f5e20c8d8745f6e27ba54df7618a718b9dba0be89da096f3436998b1c01c09"
   }
  }
 },
 "nbformat": 4,
 "nbformat_minor": 2
}
