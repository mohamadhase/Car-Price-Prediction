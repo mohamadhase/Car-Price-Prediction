{
 "cells": [
  {
   "cell_type": "markdown",
   "metadata": {},
   "source": [
    "# Car Prediction Assigment notebook\n"
   ]
  },
  {
   "cell_type": "code",
   "execution_count": 590,
   "metadata": {},
   "outputs": [],
   "source": [
    "import pandas as pd\n",
    "import numpy as np\n",
    "import matplotlib.pyplot as plt\n",
    "import re"
   ]
  },
  {
   "cell_type": "markdown",
   "metadata": {},
   "source": [
    "#"
   ]
  },
  {
   "cell_type": "code",
   "execution_count": 591,
   "metadata": {},
   "outputs": [],
   "source": [
    "car_data = pd.read_csv('../data/data.csv')\n"
   ]
  },
  {
   "cell_type": "code",
   "execution_count": 592,
   "metadata": {},
   "outputs": [
    {
     "data": {
      "text/plain": [
       "(6864, 16)"
      ]
     },
     "execution_count": 592,
     "metadata": {},
     "output_type": "execute_result"
    }
   ],
   "source": [
    "car_data.shape"
   ]
  },
  {
   "cell_type": "code",
   "execution_count": 593,
   "metadata": {},
   "outputs": [
    {
     "data": {
      "text/html": [
       "<div>\n",
       "<style scoped>\n",
       "    .dataframe tbody tr th:only-of-type {\n",
       "        vertical-align: middle;\n",
       "    }\n",
       "\n",
       "    .dataframe tbody tr th {\n",
       "        vertical-align: top;\n",
       "    }\n",
       "\n",
       "    .dataframe thead th {\n",
       "        text-align: right;\n",
       "    }\n",
       "</style>\n",
       "<table border=\"1\" class=\"dataframe\">\n",
       "  <thead>\n",
       "    <tr style=\"text-align: right;\">\n",
       "      <th></th>\n",
       "      <th>car_name</th>\n",
       "      <th>year</th>\n",
       "      <th>price</th>\n",
       "      <th>color</th>\n",
       "      <th>fuil_type</th>\n",
       "      <th>car_prev_state</th>\n",
       "      <th>license_country</th>\n",
       "      <th>transimission_type</th>\n",
       "      <th>glass_type</th>\n",
       "      <th>motor_power</th>\n",
       "      <th>mileage</th>\n",
       "      <th>passenger_capacity</th>\n",
       "      <th>prev_owners</th>\n",
       "      <th>additional_info</th>\n",
       "      <th>insurance_cost</th>\n",
       "      <th>sell_date</th>\n",
       "    </tr>\n",
       "  </thead>\n",
       "  <tbody>\n",
       "    <tr>\n",
       "      <th>0</th>\n",
       "      <td>كيا اوبتيما</td>\n",
       "      <td>2014.0</td>\n",
       "      <td>100000.0</td>\n",
       "      <td>أبيض عاجي</td>\n",
       "      <td>بنزين</td>\n",
       "      <td>خصوصي</td>\n",
       "      <td>فلسطينية</td>\n",
       "      <td>اوتوماتيك</td>\n",
       "      <td>الكتروني</td>\n",
       "      <td>2000.0</td>\n",
       "      <td>75000.0</td>\n",
       "      <td>4+1</td>\n",
       "      <td>يد اولى</td>\n",
       "      <td>مُكيّف,إغلاق مركزي,جهاز إنذار,مسجل CD,فتحة سقف...</td>\n",
       "      <td>3090.0</td>\n",
       "      <td>2017-08-16</td>\n",
       "    </tr>\n",
       "    <tr>\n",
       "      <th>1</th>\n",
       "      <td>كيا سورينتو</td>\n",
       "      <td>2007.0</td>\n",
       "      <td>60000.0</td>\n",
       "      <td>سكني</td>\n",
       "      <td>ديزل</td>\n",
       "      <td>خصوصي</td>\n",
       "      <td>فلسطينية</td>\n",
       "      <td>نصف اوتوماتيك</td>\n",
       "      <td>الكتروني</td>\n",
       "      <td>2500.0</td>\n",
       "      <td>130000.0</td>\n",
       "      <td>7+1</td>\n",
       "      <td>2</td>\n",
       "      <td>مُكيّف,إغلاق مركزي,جهاز إنذار,مسجل CD,فتحة سقف...</td>\n",
       "      <td>2740.0</td>\n",
       "      <td>2017-08-16</td>\n",
       "    </tr>\n",
       "    <tr>\n",
       "      <th>2</th>\n",
       "      <td>هونداي افانتي</td>\n",
       "      <td>2006.0</td>\n",
       "      <td>43500.0</td>\n",
       "      <td>سكني</td>\n",
       "      <td>بنزين</td>\n",
       "      <td>خصوصي</td>\n",
       "      <td>فلسطينية</td>\n",
       "      <td>اوتوماتيك</td>\n",
       "      <td>الكتروني</td>\n",
       "      <td>1600.0</td>\n",
       "      <td>NaN</td>\n",
       "      <td>NaN</td>\n",
       "      <td>NaN</td>\n",
       "      <td>مُكيّف,إغلاق مركزي,جهاز إنذار,مسجل CD,جنطات مغ...</td>\n",
       "      <td>2340.0</td>\n",
       "      <td>2017-08-19</td>\n",
       "    </tr>\n",
       "    <tr>\n",
       "      <th>3</th>\n",
       "      <td>فيات 127</td>\n",
       "      <td>1982.0</td>\n",
       "      <td>5500.0</td>\n",
       "      <td>بيج</td>\n",
       "      <td>بنزين</td>\n",
       "      <td>خصوصي</td>\n",
       "      <td>فلسطينية</td>\n",
       "      <td>عادي</td>\n",
       "      <td>يدوي</td>\n",
       "      <td>906.0</td>\n",
       "      <td>NaN</td>\n",
       "      <td>4+1</td>\n",
       "      <td>00</td>\n",
       "      <td>مُكيّف,مسجل CD</td>\n",
       "      <td>967.0</td>\n",
       "      <td>2017-08-17</td>\n",
       "    </tr>\n",
       "    <tr>\n",
       "      <th>4</th>\n",
       "      <td>بيجو 208</td>\n",
       "      <td>2014.0</td>\n",
       "      <td>54000.0</td>\n",
       "      <td>فضي</td>\n",
       "      <td>بنزين</td>\n",
       "      <td>خصوصي</td>\n",
       "      <td>فلسطينية</td>\n",
       "      <td>اوتوماتيك</td>\n",
       "      <td>الكتروني</td>\n",
       "      <td>1200.0</td>\n",
       "      <td>38000.0</td>\n",
       "      <td>4+1</td>\n",
       "      <td>NaN</td>\n",
       "      <td>مُكيّف,إغلاق مركزي,جهاز إنذار,جنطات مغنيسيوم,و...</td>\n",
       "      <td>2035.0</td>\n",
       "      <td>2017-08-17</td>\n",
       "    </tr>\n",
       "  </tbody>\n",
       "</table>\n",
       "</div>"
      ],
      "text/plain": [
       "        car_name    year     price       color fuil_type car_prev_state  \\\n",
       "0    كيا اوبتيما  2014.0  100000.0  أبيض عاجي     بنزين          خصوصي    \n",
       "1    كيا سورينتو  2007.0   60000.0       سكني      ديزل          خصوصي    \n",
       "2  هونداي افانتي  2006.0   43500.0       سكني     بنزين          خصوصي    \n",
       "3       فيات 127  1982.0    5500.0        بيج     بنزين          خصوصي    \n",
       "4       بيجو 208  2014.0   54000.0        فضي     بنزين          خصوصي    \n",
       "\n",
       "  license_country transimission_type glass_type  motor_power   mileage  \\\n",
       "0       فلسطينية          اوتوماتيك   الكتروني        2000.0   75000.0   \n",
       "1       فلسطينية      نصف اوتوماتيك   الكتروني        2500.0  130000.0   \n",
       "2       فلسطينية          اوتوماتيك   الكتروني        1600.0       NaN   \n",
       "3       فلسطينية               عادي       يدوي         906.0       NaN   \n",
       "4       فلسطينية          اوتوماتيك   الكتروني        1200.0   38000.0   \n",
       "\n",
       "  passenger_capacity prev_owners  \\\n",
       "0               4+1     يد اولى    \n",
       "1               7+1           2    \n",
       "2                NaN         NaN   \n",
       "3              4+1          00     \n",
       "4               4+1          NaN   \n",
       "\n",
       "                                     additional_info  insurance_cost  \\\n",
       "0  مُكيّف,إغلاق مركزي,جهاز إنذار,مسجل CD,فتحة سقف...          3090.0   \n",
       "1  مُكيّف,إغلاق مركزي,جهاز إنذار,مسجل CD,فتحة سقف...          2740.0   \n",
       "2  مُكيّف,إغلاق مركزي,جهاز إنذار,مسجل CD,جنطات مغ...          2340.0   \n",
       "3                                     مُكيّف,مسجل CD           967.0   \n",
       "4  مُكيّف,إغلاق مركزي,جهاز إنذار,جنطات مغنيسيوم,و...          2035.0   \n",
       "\n",
       "    sell_date  \n",
       "0  2017-08-16  \n",
       "1  2017-08-16  \n",
       "2  2017-08-19  \n",
       "3  2017-08-17  \n",
       "4  2017-08-17  "
      ]
     },
     "execution_count": 593,
     "metadata": {},
     "output_type": "execute_result"
    }
   ],
   "source": [
    "car_data.head(5)"
   ]
  },
  {
   "cell_type": "code",
   "execution_count": 594,
   "metadata": {},
   "outputs": [],
   "source": [
    "car_data['additional_info'].fillna('', inplace=True)"
   ]
  },
  {
   "cell_type": "code",
   "execution_count": 595,
   "metadata": {},
   "outputs": [],
   "source": [
    "# handle the null values inside the sell_date column by replacing it with the previous value\n",
    "car_data['sell_date'].fillna(method='ffill', inplace=True)"
   ]
  },
  {
   "cell_type": "code",
   "execution_count": 596,
   "metadata": {},
   "outputs": [],
   "source": [
    "def normalize_prev_owner(prev_owner):\n",
    "    if prev_owner is np.nan:\n",
    "        return np.nan\n",
    "    try :\n",
    "        return str(int(prev_owner))\n",
    "    except ValueError:\n",
    "        pass\n",
    "    if re.search(r'صفر|مش|وارد|مان|احد|يوجد|استيراد|مستورد|شرك|انا', prev_owner):\n",
    "        return '0'\n",
    "    if re.search(r'أول|اول|1', prev_owner):\n",
    "        return 1\n",
    "    if re.search(r'ثان|تان|2|اثنان', prev_owner):\n",
    "        return 2\n",
    "    if re.search(r'ثالث|تالث|3|ثلاث|تلات|تالت', prev_owner):\n",
    "        return 3\n",
    "    if re.search(r'رابع|4|اربع|اربعة|اربعه', prev_owner):\n",
    "        return 4\n",
    "    if re.search(r'خامس|5|خمس|خمسة|خمسه', prev_owner):\n",
    "        return 5\n",
    "    if re.search(r'سادس|6|سادسة|سادسه', prev_owner):\n",
    "        return 6\n",
    "    if re.search(r'سابع|7|سابعة|سابعه', prev_owner):\n",
    "        return 7\n",
    "    if re.search(r'ثامن|8|ثامنة|ثامنه', prev_owner):\n",
    "        return 8\n",
    "    if re.search(r'تاسع|9|تاسعة|تاسعه', prev_owner):\n",
    "        return 9\n",
    "    if re.search(r'عاشر|10|عشر|عشرة|عشره', prev_owner):\n",
    "        return 10\n",
    "    if re.search('يد', prev_owner):\n",
    "        try :\n",
    "            return str(int(re.search(r'\\d+', prev_owner).group())) \n",
    "        except AttributeError:\n",
    "            return np.nan\n",
    "    if re.search(r'[^a-zA-Z0-9\\u0600-\\u06FF]', prev_owner):\n",
    "        return np.nan\n",
    "    return prev_owner\n",
    "car_data['prev_owners'] = car_data['prev_owners'].apply(normalize_prev_owner)\n"
   ]
  },
  {
   "cell_type": "code",
   "execution_count": 597,
   "metadata": {},
   "outputs": [
    {
     "name": "stdout",
     "output_type": "stream",
     "text": [
      "41\n"
     ]
    },
    {
     "data": {
      "text/plain": [
       "array([1, '2', nan, '0', '1', 2, '4', '3', 3, '8', 6, '5', '9', 4, '6',\n",
       "       '7', '159000', '12', '10', 5, '11', 10, '56', '13', '16', '17', 9,\n",
       "       '78888877766', '15', '170000', '18', '123423', 7, 8, '14', '12345',\n",
       "       '1000', '778244', '19', '11111', '44444'], dtype=object)"
      ]
     },
     "execution_count": 597,
     "metadata": {},
     "output_type": "execute_result"
    }
   ],
   "source": [
    "#handle the null values inside the prev_owner column by replacing it with the the mean of all the rows with the same year value\n",
    "print(len(car_data['prev_owners'].unique()))\n",
    "car_data['prev_owners'].unique()"
   ]
  },
  {
   "cell_type": "code",
   "execution_count": 598,
   "metadata": {},
   "outputs": [
    {
     "data": {
      "text/plain": [
       "<AxesSubplot: >"
      ]
     },
     "execution_count": 598,
     "metadata": {},
     "output_type": "execute_result"
    },
    {
     "data": {
      "image/png": "[encoded data removed]",
      "text/plain": [
       "<Figure size 1000x1000 with 1 Axes>"
      ]
     },
     "metadata": {},
     "output_type": "display_data"
    }
   ],
   "source": [
    "# ## Data Preprocessing\n",
    "# get the null values\n",
    "#make the bar plot virtical\n",
    "sum_of_nulls = car_data.isnull().sum()\n",
    "sum_of_nulls[sum_of_nulls >0].plot(kind='barh', figsize=(10, 10))"
   ]
  },
  {
   "cell_type": "code",
   "execution_count": null,
   "metadata": {},
   "outputs": [],
   "source": []
  }
 ],
 "metadata": {
  "kernelspec": {
   "display_name": "Python 3.8.8 64-bit",
   "language": "python",
   "name": "python3"
  },
  "language_info": {
   "codemirror_mode": {
    "name": "ipython",
    "version": 3
   },
   "file_extension": ".py",
   "mimetype": "text/x-python",
   "name": "python",
   "nbconvert_exporter": "python",
   "pygments_lexer": "ipython3",
   "version": "3.8.8"
  },
  "orig_nbformat": 4,
  "vscode": {
   "interpreter": {
    "hash": "e1e50afc35c5bf48b6480db009e29dffe9b3dc8b7d11ef5d69051a76ab35e225"
   }
  }
 },
 "nbformat": 4,
 "nbformat_minor": 2
}
